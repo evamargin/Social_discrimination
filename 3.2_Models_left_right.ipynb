{
 "cells": [
  {
   "cell_type": "markdown",
   "metadata": {},
   "source": [
    "# Models"
   ]
  },
  {
   "cell_type": "code",
   "execution_count": 145,
   "metadata": {},
   "outputs": [],
   "source": [
    "# %matplotlib inline\n",
    "# %load_ext autotime"
   ]
  },
  {
   "cell_type": "code",
   "execution_count": 1,
   "metadata": {},
   "outputs": [],
   "source": [
    "import sys\n",
    "import os as os\n",
    "import numpy as np\n",
    "try:\n",
    "    import cPickle as pickle\n",
    "except:\n",
    "    import pickle as pkl\n",
    "\n",
    "import scipy as scipy\n",
    "import scipy.io as spio\n",
    "import pandas as pd\n",
    "import matplotlib.pyplot as plt\n",
    "import matplotlib as mpl\n",
    "from scipy import signal\n",
    "from scipy.signal import find_peaks\n",
    "from scipy.ndimage import gaussian_filter1d\n",
    "from scipy.io.matlab import mat_struct\n",
    "import pickle\n",
    "import random\n",
    "random.seed(666)\n",
    "\n",
    "def loadmat(filename):\n",
    "    '''\n",
    "    this function should be called instead of direct spio.loadmat\n",
    "    as it cures the problem of not properly recovering python dictionaries\n",
    "    from mat files. It calls the function check keys to cure all entries\n",
    "    which are still mat-objects\n",
    "    '''\n",
    "    data = spio.loadmat(filename, struct_as_record=True, squeeze_me=True)\n",
    "    return _check_keys(data)\n",
    "\n",
    "def _check_keys(dict):\n",
    "    '''\n",
    "    checks if entries in dictionary are mat-objects. If yes\n",
    "    todict is called to change them to nested dictionaries\n",
    "    '''\n",
    "    for key in dict:\n",
    "        if isinstance(dict[key], scipy.io.matlab.mat_struct):\n",
    "            dict[key] = _todict(dict[key])\n",
    "    return dict        \n",
    "\n",
    "def _todict(matobj):\n",
    "    '''\n",
    "    A recursive function which constructs from matobjects nested dictionaries\n",
    "    '''\n",
    "    dict = {}\n",
    "    for strg in matobj._fieldnames:\n",
    "        elem = matobj.__dict__[strg]\n",
    "        if isinstance(elem, scipy.io.matlab.mat_struct):\n",
    "            dict[strg] = _todict(elem)\n",
    "        else:\n",
    "            dict[strg] = elem\n",
    "    return dict"
   ]
  },
  {
   "cell_type": "markdown",
   "metadata": {},
   "source": [
    "## Load session data"
   ]
  },
  {
   "cell_type": "code",
   "execution_count": 2,
   "metadata": {},
   "outputs": [],
   "source": [
    "meta = {}\n",
    "meta[36] = {'mouse':'3C280', 'ks':'Kilosort_2024-04-25_101102', 'del_units':None, 'vis_mice':np.array(['nan', 'alpha', 'beta'])}\n",
    "meta[38] = {'mouse':'3C280', 'ks':'Kilosort_2024-03-27_150459', 'del_units':[936,1005,1043,1135,1137,1138,1140], 'vis_mice':np.array(['nan', 'alpha', 'beta'])}"
   ]
  },
  {
   "cell_type": "code",
   "execution_count": 3,
   "metadata": {},
   "outputs": [],
   "source": [
    "Session = 38"
   ]
  },
  {
   "cell_type": "code",
   "execution_count": 4,
   "metadata": {},
   "outputs": [],
   "source": [
    "mouse = meta[Session]['mouse']\n",
    "ks = meta[Session]['ks']\n",
    "del_units=meta[Session]['del_units']\n",
    "vis_mice = meta[Session]['vis_mice']\n",
    "active_blocks = [1,2]"
   ]
  },
  {
   "cell_type": "code",
   "execution_count": 5,
   "metadata": {},
   "outputs": [],
   "source": [
    "a_idx = np.where(vis_mice=='alpha')[0][0]\n",
    "b_idx = np.where(vis_mice=='beta')[0][0]"
   ]
  },
  {
   "cell_type": "code",
   "execution_count": 6,
   "metadata": {},
   "outputs": [],
   "source": [
    "# create folder to save results\n",
    "try:\n",
    "    os.makedirs(f'C:\\\\Users\\\\ebukina\\\\Desktop\\\\eva\\\\results\\\\models_left_right')\n",
    "except:\n",
    "    pass\n",
    "\n",
    "# create folder to save results\n",
    "try:\n",
    "    os.makedirs(f'C:\\\\Users\\\\ebukina\\\\Desktop\\\\eva\\\\results\\\\models_left_right\\\\S{Session}')\n",
    "except:\n",
    "    pass"
   ]
  },
  {
   "cell_type": "markdown",
   "metadata": {},
   "source": []
  },
  {
   "cell_type": "markdown",
   "metadata": {},
   "source": [
    "### Ephys data"
   ]
  },
  {
   "cell_type": "code",
   "execution_count": 7,
   "metadata": {},
   "outputs": [],
   "source": [
    "KSdir = f'L:\\\\everyone\\\\sharedDATA\\\\ProcessedDATA\\\\{mouse}\\\\{mouse}_S{Session}\\\\{ks}\\\\'\n",
    "\n",
    "spiketimesfile = KSdir+\"spike_times.npy\"  \n",
    "spiketimes = np.load(spiketimesfile)  #### all spiketimes as indexes regardless of cluster\n",
    "\n",
    "clusterfile = KSdir+\"spike_clusters.npy\"\n",
    "spikeclusters = np.load(clusterfile) #### cluster id for each detected spike\n",
    "\n",
    "Clusterinfofile = KSdir+\"cluster_info.tsv\"\n",
    "Clusterinfo = pd.read_csv(Clusterinfofile,sep='\\t') #### cluster meta-data matrix"
   ]
  },
  {
   "cell_type": "code",
   "execution_count": 8,
   "metadata": {},
   "outputs": [
    {
     "name": "stdout",
     "output_type": "stream",
     "text": [
      "Session 38: 38 good clusters\n"
     ]
    }
   ],
   "source": [
    "goodclusts = Clusterinfo['cluster_id'][np.where(Clusterinfo['group']=='good')[0]]\n",
    "goods = []\n",
    "for clust in goodclusts :\n",
    "    goods.append(clust)\n",
    "print(f'Session {Session}: {len(goods)} good clusters')"
   ]
  },
  {
   "cell_type": "code",
   "execution_count": 9,
   "metadata": {},
   "outputs": [],
   "source": [
    "goodspiketimes = {}\n",
    "\n",
    "spikethresh = 1000 # min nb of spikes\n",
    "for goodunit in goods :\n",
    "    goodinds = np.where(spikeclusters==goodunit)[0]\n",
    "    if goodinds.shape[0] > spikethresh : \n",
    "        goodspiketimes[goodunit] = spiketimes[goodinds]"
   ]
  },
  {
   "cell_type": "code",
   "execution_count": 155,
   "metadata": {},
   "outputs": [
    {
     "data": {
      "text/plain": [
       "30"
      ]
     },
     "execution_count": 155,
     "metadata": {},
     "output_type": "execute_result"
    }
   ],
   "source": [
    "len(goodspiketimes.keys())"
   ]
  },
  {
   "cell_type": "markdown",
   "metadata": {},
   "source": [
    "### Behavior data"
   ]
  },
  {
   "cell_type": "code",
   "execution_count": 10,
   "metadata": {},
   "outputs": [],
   "source": [
    "matfile =  f'L:\\\\everyone\\\\sharedDATA\\\\ProcessedDATA\\\\{mouse}\\\\{mouse}_S{Session}\\\\Behaviour.mat'\n",
    "EvaBehavior = loadmat(matfile)"
   ]
  },
  {
   "cell_type": "code",
   "execution_count": 11,
   "metadata": {},
   "outputs": [],
   "source": [
    "def load_behavioral_event(event_idx, time_to_idx = True):\n",
    "    '''\n",
    "    returns dictionary; keys - blocks; inside - array with event :\n",
    "    time stamps in [sec] if time_to_idx = False\n",
    "    indexes if time_to_idx = True\n",
    "    '''\n",
    "    event_dic = {}\n",
    "\n",
    "    for block in np.arange(EvaBehavior['Behaviour'].shape[0]) :\n",
    "        if time_to_idx:\n",
    "            event_dic[block] = EvaBehavior['Behaviour'][block][event_idx]*20000\n",
    "        else:\n",
    "            event_dic[block] = EvaBehavior['Behaviour'][block][event_idx]\n",
    "        event_dic[block] = event_dic[block].astype(int)\n",
    "    \n",
    "    return event_dic"
   ]
  },
  {
   "cell_type": "code",
   "execution_count": 12,
   "metadata": {},
   "outputs": [],
   "source": [
    "TestSocialSampleWindowPerTrial = load_behavioral_event(12) "
   ]
  },
  {
   "cell_type": "markdown",
   "metadata": {},
   "source": [
    "## Data prep: firing rate array"
   ]
  },
  {
   "cell_type": "code",
   "execution_count": 13,
   "metadata": {},
   "outputs": [],
   "source": [
    "import copy"
   ]
  },
  {
   "cell_type": "code",
   "execution_count": 14,
   "metadata": {},
   "outputs": [],
   "source": [
    "def fr_matrix_prep(beforesamples, aftersamples, blocks, bins, del_units=None):\n",
    "    # discard wierd cells based on rasters\n",
    "    goodspiketimes_copy = copy.deepcopy(goodspiketimes)\n",
    "\n",
    "    try:\n",
    "        for unit in del_units:\n",
    "            del goodspiketimes_copy[unit]\n",
    "    except:\n",
    "        pass\n",
    "\n",
    "    units = goodspiketimes_copy.keys()\n",
    "    fr_dic = {}\n",
    "   \n",
    "    for block in blocks:\n",
    "        n_trials = TestSocialSampleWindowPerTrial[block].shape[0]\n",
    "        n_units = len(goodspiketimes_copy.keys())\n",
    "\n",
    "        fr_matrix = np.zeros((n_trials, n_units))\n",
    "\n",
    "        i = 0\n",
    "        for unit in units: # list of good cluster_id\n",
    "            \n",
    "            \n",
    "            for event in np.arange(TestSocialSampleWindowPerTrial[block].shape[0]) : #iterate by npoke events\n",
    "\n",
    "                onset = TestSocialSampleWindowPerTrial[block][event,0]\n",
    "                offset = TestSocialSampleWindowPerTrial[block][event,1]\n",
    "                \n",
    "                cond1 = np.where(goodspiketimes_copy[unit].astype(int)>=onset-beforesamples)[0]\n",
    "                cond2 = np.where(goodspiketimes_copy[unit].astype(int)<=offset+aftersamples)[0]\n",
    "                unitspikes = goodspiketimes_copy[unit][np.intersect1d(cond1,cond2)].astype(int)-onset\n",
    "\n",
    "                n = np.histogram(unitspikes, bins=bins)[0][0]\n",
    "                fr = n/0.25\n",
    "                fr_matrix[event, i] = fr\n",
    "            i+=1\n",
    "                \n",
    "        fr_dic[block] = fr_matrix\n",
    "    \n",
    "    return fr_dic"
   ]
  },
  {
   "cell_type": "code",
   "execution_count": 15,
   "metadata": {},
   "outputs": [],
   "source": [
    "## find spikes in interesting behavioral window\n",
    "samplplimg_rate = 20*1000 #20 kHz\n",
    "beforesamples = 0*samplplimg_rate # 1 sec (expressed in samples for a 20khz sampling rate)\n",
    "aftersamples = 0*samplplimg_rate # 1 sec\n",
    "npoke_window = 0.25\n",
    "eventlength = npoke_window*samplplimg_rate # 0.25 s\n",
    "\n",
    "binsize = 0.25*samplplimg_rate \n",
    "bins = np.linspace(-beforesamples,aftersamples+eventlength,int((beforesamples+aftersamples+eventlength)/binsize)+1)"
   ]
  },
  {
   "cell_type": "code",
   "execution_count": 16,
   "metadata": {},
   "outputs": [],
   "source": [
    "# 250 ms during the nosepoke\n",
    "fr_dic = fr_matrix_prep(beforesamples, aftersamples, blocks=active_blocks, bins=bins, del_units=del_units)"
   ]
  },
  {
   "cell_type": "code",
   "execution_count": 17,
   "metadata": {},
   "outputs": [
    {
     "data": {
      "text/plain": [
       "dict_keys([1, 2])"
      ]
     },
     "execution_count": 17,
     "metadata": {},
     "output_type": "execute_result"
    }
   ],
   "source": [
    "fr_dic.keys()"
   ]
  },
  {
   "cell_type": "code",
   "execution_count": 18,
   "metadata": {},
   "outputs": [
    {
     "data": {
      "text/plain": [
       "(30, 23)"
      ]
     },
     "execution_count": 18,
     "metadata": {},
     "output_type": "execute_result"
    }
   ],
   "source": [
    "fr_dic[1].shape"
   ]
  },
  {
   "cell_type": "markdown",
   "metadata": {},
   "source": [
    "## PCA"
   ]
  },
  {
   "cell_type": "code",
   "execution_count": 19,
   "metadata": {},
   "outputs": [],
   "source": [
    "from scipy.stats import multivariate_normal\n",
    "import matplotlib.patches as patches\n",
    "from sklearn.decomposition import PCA\n",
    "from sklearn.mixture import GaussianMixture\n",
    "from matplotlib.patches import Ellipse\n",
    "from sklearn.preprocessing import StandardScaler, MinMaxScaler"
   ]
  },
  {
   "cell_type": "code",
   "execution_count": 22,
   "metadata": {},
   "outputs": [],
   "source": [
    "n_clusters=2\n",
    "firing_rates_concat = np.concatenate((fr_dic[a_idx], fr_dic[b_idx]),axis=0)"
   ]
  },
  {
   "cell_type": "code",
   "execution_count": 20,
   "metadata": {},
   "outputs": [
    {
     "data": {
      "text/plain": [
       "(60,\n",
       " array([1, 2, 1, 1, 1, 2, 1, 1, 1, 1, 1, 1, 1, 1, 2, 1, 2, 2, 2, 2, 1, 2,\n",
       "        1, 2, 1, 2, 1, 2, 2, 2, 2, 1, 1, 1, 2, 1, 1, 2, 2, 2, 1, 2, 1, 2,\n",
       "        1, 1, 2, 2, 1, 1, 1, 1, 2, 2, 2, 2, 1, 2, 1, 1], dtype=uint8))"
      ]
     },
     "execution_count": 20,
     "metadata": {},
     "output_type": "execute_result"
    }
   ],
   "source": [
    "# 1 - alpha port; 2 - beta port\n",
    "choice_1 = EvaBehavior['Behaviour'][1][19]\n",
    "choice_2 = EvaBehavior['Behaviour'][2][19]\n",
    "choice_12 = np.concatenate([choice_1, choice_2])\n",
    "len(choice_12), choice_12"
   ]
  },
  {
   "cell_type": "code",
   "execution_count": 23,
   "metadata": {},
   "outputs": [],
   "source": [
    "# Standardize the data\n",
    "scaler = StandardScaler() # z-scoring (x-mean)/sd\n",
    "scaled_data = scaler.fit_transform(firing_rates_concat)\n",
    "\n",
    "# Apply PCA\n",
    "pca = PCA(n_components=2)  # Choose number of components based on explained variance\n",
    "principal_components = pca.fit_transform(scaled_data)\n",
    "\n",
    "# Scale each principal component to range from -1 to 1\n",
    "scaler = MinMaxScaler(feature_range=(-1, 1))\n",
    "principal_components = scaler.fit_transform(principal_components)  "
   ]
  },
  {
   "cell_type": "code",
   "execution_count": 24,
   "metadata": {},
   "outputs": [
    {
     "data": {
      "text/plain": [
       "(60, 2)"
      ]
     },
     "execution_count": 24,
     "metadata": {},
     "output_type": "execute_result"
    }
   ],
   "source": [
    "principal_components.shape"
   ]
  },
  {
   "cell_type": "code",
   "execution_count": 25,
   "metadata": {},
   "outputs": [
    {
     "data": {
      "text/plain": [
       "((33, 2), (27, 2))"
      ]
     },
     "execution_count": 25,
     "metadata": {},
     "output_type": "execute_result"
    }
   ],
   "source": [
    "id_1 = np.where(choice_12==1)[0]\n",
    "id_2 = np.where(choice_12==2)[0]\n",
    "\n",
    "choice1_pca = principal_components[id_1,:]\n",
    "choice2_pca = principal_components[id_2,:]\n",
    "\n",
    "choice1_pca.shape, choice2_pca.shape"
   ]
  },
  {
   "cell_type": "code",
   "execution_count": 26,
   "metadata": {},
   "outputs": [],
   "source": [
    "def fit_gaussian(data):\n",
    "    \"\"\"Fit a 2D Gaussian to the data and return the mean and covariance.\"\"\"\n",
    "    mean = np.mean(data, axis=0)\n",
    "    cov = np.cov(data, rowvar=False)\n",
    "    return mean, cov\n",
    "\n",
    "def plot_ellipse(mean, cov, ax, n_std=1.0, color='red', **kwargs):\n",
    "    \"\"\"Plot an ellipse representing the Gaussian mean ± n_std * standard deviations.\"\"\"\n",
    "    # Eigenvalue decomposition to find the axis lengths and rotation angle\n",
    "    vals, vecs = np.linalg.eigh(cov)\n",
    "    order = vals.argsort()[::-1]\n",
    "    vals, vecs = vals[order], vecs[:, order]\n",
    "    \n",
    "    theta = np.degrees(np.arctan2(*vecs[:, 0][::-1]))\n",
    "    \n",
    "    # Width and height are \"full\" lengths, not radius\n",
    "    width, height = 2 * n_std * np.sqrt(vals)\n",
    "    \n",
    "    ell = patches.Ellipse(xy=mean, width=width, height=height, angle=theta, edgecolor=None, facecolor=color, alpha=0.35, **kwargs)\n",
    "    ax.add_patch(ell)"
   ]
  },
  {
   "cell_type": "code",
   "execution_count": 27,
   "metadata": {},
   "outputs": [
    {
     "data": {
      "image/png": "[encoded data removed]",
      "text/plain": [
       "<Figure size 400x400 with 1 Axes>"
      ]
     },
     "metadata": {},
     "output_type": "display_data"
    }
   ],
   "source": [
    "data_pca = [choice1_pca, choice2_pca]\n",
    "colors = ['red', 'green']\n",
    "names = ['alpha port', 'beta port']\n",
    "\n",
    "fig, ax = plt.subplots(figsize=(4, 4))\n",
    "\n",
    "i = 0\n",
    "for data, color in zip(data_pca, colors):\n",
    "    mean, cov = fit_gaussian(data)\n",
    "    plot_ellipse(mean, cov, ax, color=color)\n",
    "    i+=1\n",
    "\n",
    "i = 0\n",
    "for data, color in zip(data_pca, colors):\n",
    "    # Plot data points\n",
    "    ax.scatter(data[:, 0], data[:, 1], s=30, color=color, label=names[i], edgecolor='k',  linewidth=0.5)\n",
    "    i+=1\n",
    "\n",
    "plt.axvline(0,  linestyle = '--', color='#808080', alpha=0.3)\n",
    "plt.axhline(0,  linestyle = '--', color='#808080', alpha=0.3)\n",
    "# plt.grid(True)\n",
    "# plt.axis('equal')\n",
    "plt.xlabel('PC 1')\n",
    "plt.ylabel('PC 2')\n",
    "# plt.ylim(-1,1)\n",
    "# plt.xlim(-1,1)\n",
    "plt.xticks([-1, -0.5, 0, 0.5, 1])\n",
    "plt.yticks([-1, -0.5, 0, 0.5, 1])\n",
    "plt.title('Population responcses in PC space')\n",
    "# plt.legend()\n",
    "plt.tight_layout()\n",
    "plt.savefig(f'C:\\\\Users\\\\ebukina\\\\Desktop\\\\eva\\\\results\\\\models_left_right\\\\S{Session}\\\\{mouse}_S{Session}_pc_behav.png', dpi=300, bbox_inches='tight')\n",
    "plt.show() "
   ]
  },
  {
   "cell_type": "code",
   "execution_count": 28,
   "metadata": {},
   "outputs": [
    {
     "data": {
      "image/png": "[encoded data removed]",
      "text/plain": [
       "<Figure size 250x250 with 1 Axes>"
      ]
     },
     "metadata": {},
     "output_type": "display_data"
    }
   ],
   "source": [
    "data_pca = [choice1_pca, choice2_pca]\n",
    "colors = ['red', 'green']\n",
    "names = ['alpha port', 'beta port']\n",
    "\n",
    "fig, ax = plt.subplots(figsize=(2.5,2.5))\n",
    "\n",
    "i = 0\n",
    "for data, color in zip(data_pca, colors):\n",
    "    mean, cov = fit_gaussian(data)\n",
    "    plot_ellipse(mean, cov, ax, color=color)\n",
    "    i+=1\n",
    "\n",
    "i = 0\n",
    "for data, color in zip(data_pca, colors):\n",
    "    # Plot data points\n",
    "    ax.scatter(data[:, 0], data[:, 1], s=10, color=color, label=names[i], edgecolor='k',  linewidth=0.5)\n",
    "    i+=1\n",
    "\n",
    "plt.axvline(0,  linestyle = '--', color='#808080', alpha=0.3)\n",
    "plt.axhline(0,  linestyle = '--', color='#808080', alpha=0.3)\n",
    "# plt.grid(True)\n",
    "# plt.axis('equal')\n",
    "plt.xlabel('PC 1')\n",
    "plt.ylabel('PC 2')\n",
    "# plt.ylim(-1,1)\n",
    "# plt.xlim(-1,1)\n",
    "plt.xticks([-1, 0, 1])\n",
    "plt.yticks([-1, 0, 1])\n",
    "# plt.title('Population responcses in PC space')\n",
    "# plt.legend()\n",
    "plt.tight_layout()\n",
    "plt.savefig(f'C:\\\\Users\\\\ebukina\\\\Desktop\\\\eva\\\\results\\\\models_left_right\\\\S{Session}\\\\{mouse}_S{Session}_pc_behav_mini.png', dpi=300, bbox_inches='tight')\n",
    "plt.show() "
   ]
  },
  {
   "cell_type": "markdown",
   "metadata": {},
   "source": [
    "## Mahalanobis distances"
   ]
  },
  {
   "cell_type": "code",
   "execution_count": 29,
   "metadata": {},
   "outputs": [],
   "source": [
    "from scipy.spatial.distance import mahalanobis"
   ]
  },
  {
   "cell_type": "code",
   "execution_count": 30,
   "metadata": {},
   "outputs": [],
   "source": [
    "centroid_1_pca = np.median(choice1_pca, axis=0).reshape(1, -1)[0]\n",
    "centroid_2_pca = np.median(choice2_pca, axis=0).reshape(1, -1)[0]"
   ]
  },
  {
   "cell_type": "code",
   "execution_count": 31,
   "metadata": {},
   "outputs": [],
   "source": [
    "covar = np.cov(principal_components.T)\n",
    "covarinv = np.linalg.inv(covar)\n",
    "\n",
    "# bw alpha and beta\n",
    "MDic_aa = [mahalanobis(x, centroid_1_pca, covarinv) for x in choice1_pca]\n",
    "MDic_ab = [mahalanobis(x, centroid_1_pca, covarinv) for x in choice2_pca]\n",
    "MDic_ba = [mahalanobis(x, centroid_2_pca, covarinv) for x in choice1_pca]\n",
    "MDic_bb = [mahalanobis(x, centroid_2_pca, covarinv) for x in choice2_pca]"
   ]
  },
  {
   "cell_type": "code",
   "execution_count": 32,
   "metadata": {},
   "outputs": [
    {
     "data": {
      "text/plain": [
       "array([[0.79365809, 0.5773952 ],\n",
       "       [0.87723043, 0.63715508]])"
      ]
     },
     "execution_count": 32,
     "metadata": {},
     "output_type": "execute_result"
    }
   ],
   "source": [
    "MD_matrix = np.zeros((2,2))\n",
    "MD_matrix[0,0] = np.median(np.array(MDic_aa))\n",
    "MD_matrix[0,1] = np.median(np.array(MDic_ab))\n",
    "MD_matrix[1,0] = np.median(np.array(MDic_ba))\n",
    "MD_matrix[1,1] = np.median(np.array(MDic_bb))\n",
    "\n",
    "MD_matrix"
   ]
  },
  {
   "cell_type": "code",
   "execution_count": 33,
   "metadata": {},
   "outputs": [],
   "source": [
    "import seaborn as sns\n",
    "import math"
   ]
  },
  {
   "cell_type": "code",
   "execution_count": 34,
   "metadata": {},
   "outputs": [
    {
     "data": {
      "image/png": "[encoded data removed]",
      "text/plain": [
       "<Figure size 120x150 with 2 Axes>"
      ]
     },
     "metadata": {},
     "output_type": "display_data"
    }
   ],
   "source": [
    "plt.figure(figsize=(1.2, 1.5))\n",
    "\n",
    "labels = ['Left', 'Right']\n",
    "\n",
    "# Create the heatmap\n",
    "sns.heatmap(MD_matrix, annot=MD_matrix, cmap='binary', cbar_kws={'label': 'Mahalanobis distance'}, linewidths=1, linecolor='white', square=True, vmin=0, vmax=math.sqrt(8))\n",
    "\n",
    "# # Customize the heatmap\n",
    "plt.xticks(ticks=np.arange(len(labels))+0.5, labels=labels, rotation=0)\n",
    "plt.yticks(ticks=np.arange(len(labels))+0.5, labels=labels, rotation=90)\n",
    "\n",
    "plt.title('Average distance in PC space\\n')\n",
    "plt.savefig(f'C:\\\\Users\\\\ebukina\\\\Desktop\\\\eva\\\\results\\\\models_left_right\\\\S{Session}\\\\{mouse}_S{Session}_MD_behav_matrix.png', dpi=300, bbox_inches='tight')\n",
    "plt.show()"
   ]
  },
  {
   "cell_type": "markdown",
   "metadata": {},
   "source": [
    "## Shuffle control"
   ]
  },
  {
   "cell_type": "code",
   "execution_count": 35,
   "metadata": {},
   "outputs": [],
   "source": [
    "import scipy.stats as stats\n",
    "from scipy.stats import percentileofscore"
   ]
  },
  {
   "cell_type": "code",
   "execution_count": 36,
   "metadata": {},
   "outputs": [],
   "source": [
    "def dist_shuffle(principal_components, MDoc_ab):\n",
    "    ab_sh = []\n",
    "    k = 30\n",
    "    idx = np.arange(len(principal_components))\n",
    "\n",
    "    for shuffle in range(1000):\n",
    "        np.random.shuffle(idx)\n",
    "        X_pca_sh = principal_components[idx]\n",
    "        fr_matrix_a_sh = X_pca_sh[:k,:] # n_trials = 30\n",
    "        fr_matrix_b_sh = X_pca_sh[k:,:]\n",
    "\n",
    "        centroid_a_sh = np.median(fr_matrix_a_sh, axis=0).reshape(1, -1)[0]\n",
    "        centroid_b_sh = np.median(fr_matrix_b_sh, axis=0).reshape(1, -1)[0]\n",
    "        \n",
    "        covar_sh = np.cov(X_pca_sh.T)\n",
    "        covarinv_sh = np.linalg.inv(covar_sh)\n",
    "\n",
    "        ab_sh.append(mahalanobis(centroid_a_sh, centroid_b_sh,covarinv_sh))\n",
    "\n",
    "    \n",
    "    D_sh_sorted = np.sort(ab_sh)\n",
    "    percentile_rank = percentileofscore(D_sh_sorted, MDoc_ab)\n",
    "    if percentile_rank>=50:\n",
    "        p_value = 1-(percentile_rank/100)\n",
    "    else:\n",
    "        p_value = percentile_rank/100\n",
    "    # since i want 2-tailored\n",
    "    p_value = p_value*2\n",
    "\n",
    "    return ab_sh, p_value"
   ]
  },
  {
   "cell_type": "code",
   "execution_count": 38,
   "metadata": {},
   "outputs": [],
   "source": [
    "MD_cnt_12 = mahalanobis(centroid_1_pca, centroid_2_pca,covarinv)"
   ]
  },
  {
   "cell_type": "code",
   "execution_count": 39,
   "metadata": {},
   "outputs": [],
   "source": [
    "sh12, p_value12 = dist_shuffle(principal_components, MD_cnt_12)"
   ]
  },
  {
   "cell_type": "code",
   "execution_count": 42,
   "metadata": {},
   "outputs": [
    {
     "data": {
      "image/png": "[encoded data removed]",
      "text/plain": [
       "<Figure size 190x240 with 1 Axes>"
      ]
     },
     "metadata": {},
     "output_type": "display_data"
    }
   ],
   "source": [
    "D_real, D_sh, D_p_val, type = MD_cnt_12, sh12, p_value12, 'MD12'\n",
    "plt.figure(figsize=(1.9,2.4)) \n",
    "bin_edges = np.arange(np.min(np.array(D_sh)), np.max(np.array(D_sh))+0.02, 0.02)\n",
    "plt.hist(D_sh, alpha=0.5, bins=bin_edges, color='#808080')\n",
    "plt.axvline(D_real,color='red')\n",
    "plt.title(f\"{type} between centroids\\nD = {D_real:.1f}, p_val = {D_p_val:.3f}\\n\")\n",
    "plt.xlabel('Mahalanobis\\ndistance',  fontsize=12)\n",
    "plt.ylabel('Count',  fontsize=12)\n",
    "plt.tight_layout()\n",
    "plt.xlim(0, 2.5)\n",
    "plt.ylim(0, 65)\n",
    "plt.savefig(f'C:\\\\Users\\\\ebukina\\\\Desktop\\\\eva\\\\results\\\\models_left_right\\\\S{Session}\\\\{mouse}_S{Session}_D_{type}.png', dpi=300, bbox_inches='tight')\n",
    "plt.show()"
   ]
  },
  {
   "cell_type": "markdown",
   "metadata": {},
   "source": [
    "## Classifiers"
   ]
  },
  {
   "cell_type": "code",
   "execution_count": 184,
   "metadata": {},
   "outputs": [],
   "source": [
    "from sklearn.svm import SVC\n",
    "from sklearn.naive_bayes import GaussianNB\n",
    "from scipy.stats import percentileofscore\n",
    "from sklearn.model_selection import GridSearchCV\n",
    "from sklearn.preprocessing import StandardScaler\n",
    "from sklearn.metrics import classification_report, accuracy_score, confusion_matrix"
   ]
  },
  {
   "cell_type": "code",
   "execution_count": 185,
   "metadata": {},
   "outputs": [
    {
     "data": {
      "text/plain": [
       "((30, 23), (30, 23))"
      ]
     },
     "execution_count": 185,
     "metadata": {},
     "output_type": "execute_result"
    }
   ],
   "source": [
    "# data prep\n",
    "alpha_data = fr_dic[a_idx]\n",
    "beta_data = fr_dic[b_idx]\n",
    "y_alpha = choice_1\n",
    "y_beta = choice_2\n",
    "\n",
    "num_rows = alpha_data.shape[0]\n",
    "shuffled_indices = list(range(num_rows))\n",
    "\n",
    "random.shuffle(shuffled_indices)\n",
    "alpha_data = alpha_data[shuffled_indices]\n",
    "y_alpha = y_alpha[shuffled_indices]\n",
    "\n",
    "random.shuffle(shuffled_indices)\n",
    "beta_data = beta_data[shuffled_indices]\n",
    "y_beta = y_beta[shuffled_indices]\n",
    "\n",
    "alpha_data.shape, beta_data.shape"
   ]
  },
  {
   "cell_type": "code",
   "execution_count": 186,
   "metadata": {},
   "outputs": [],
   "source": [
    "def SVM(alpha_data, beta_data, y_alpha, y_beta, kernel = 'linear', cv=5):\n",
    "\n",
    "    # random.seed(666)\n",
    "    # params\n",
    "    num_rows = alpha_data.shape[0]\n",
    "    indices = list(range(num_rows))\n",
    "    train_proportion = 6 # out of 30 trials\n",
    "\n",
    "    # collect outcomes\n",
    "    accuracy_cv5 = []\n",
    "\n",
    "    for n in range(cv):\n",
    "        test_alpha_idx = random.sample(indices, train_proportion)\n",
    "        train_alpha_idx = [number for number in indices if number not in test_alpha_idx]\n",
    "        test_alpha = alpha_data[test_alpha_idx]\n",
    "        y_test_alpha = y_alpha[test_alpha_idx]\n",
    "        train_alpha = alpha_data[train_alpha_idx]\n",
    "        y_train_alpha = y_alpha[train_alpha_idx]\n",
    "\n",
    "        test_beta_idx = random.sample(indices, train_proportion)\n",
    "        train_beta_idx = [number for number in indices if number not in test_beta_idx]\n",
    "        test_beta = beta_data[test_beta_idx]\n",
    "        y_test_beta = y_beta[test_beta_idx]\n",
    "        train_beta = beta_data[train_beta_idx]\n",
    "        y_train_beta = y_beta[train_beta_idx]\n",
    "\n",
    "        test_ab = np.concatenate((test_alpha,test_beta), axis=0)\n",
    "        y_test = np.concatenate((y_test_alpha,y_test_beta))\n",
    "\n",
    "        train_ab = np.concatenate((train_alpha,train_beta), axis=0)\n",
    "        y_train = np.concatenate((y_train_alpha,y_train_beta))\n",
    "\n",
    "        # Standardize the data\n",
    "        scaler = StandardScaler()\n",
    "        test_ab = scaler.fit_transform(test_ab)\n",
    "        train_ab = scaler.fit_transform(train_ab)\n",
    "\n",
    "        # randomize train\n",
    "        num_rows = train_ab.shape[0]\n",
    "        shuffled_indices = list(range(num_rows))\n",
    "        random.shuffle(shuffled_indices)\n",
    "        train_ab = train_ab[shuffled_indices]\n",
    "        y_train = y_train[shuffled_indices]\n",
    "\n",
    "        svm_classifier_cv = SVC(kernel=kernel, random_state=666)\n",
    "        svm_classifier_cv.fit(train_ab, y_train)\n",
    "        y_pred = svm_classifier_cv.predict(test_ab)\n",
    "        accuracy_cv5.append(accuracy_score(y_test, y_pred)) \n",
    "\n",
    "    return np.mean(np.array(accuracy_cv5)) "
   ]
  },
  {
   "cell_type": "code",
   "execution_count": 187,
   "metadata": {},
   "outputs": [
    {
     "data": {
      "text/plain": [
       "0.4333333333333333"
      ]
     },
     "execution_count": 187,
     "metadata": {},
     "output_type": "execute_result"
    }
   ],
   "source": [
    "acc_svm = SVM(alpha_data, beta_data, y_alpha, y_beta)\n",
    "acc_svm"
   ]
  },
  {
   "cell_type": "code",
   "execution_count": 188,
   "metadata": {},
   "outputs": [],
   "source": [
    "acc_sh = []\n",
    "# shuffle trials\n",
    "shuffled_indices = list(range(len(alpha_data)*2))\n",
    "for sh in range(1000):\n",
    "    # data prep\n",
    "    data_ab = np.concatenate((alpha_data,beta_data), axis=0)\n",
    "    random.shuffle(shuffled_indices)\n",
    "    # print(shuffled_indices)\n",
    "    data_ab = data_ab[shuffled_indices]\n",
    "    k = alpha_data.shape[0]\n",
    "    a_sh = data_ab[:k]\n",
    "    b_sh = data_ab[k:]\n",
    "    \n",
    "    acc_sh.append(SVM(a_sh, b_sh, y_alpha, y_beta))\n",
    "    "
   ]
  },
  {
   "cell_type": "code",
   "execution_count": 189,
   "metadata": {},
   "outputs": [],
   "source": [
    "acc_sh_sorted = np.sort(np.array(acc_sh))\n",
    "percentile_rank = percentileofscore(acc_sh_sorted, np.mean(acc_svm))\n",
    "# one-tailored\n",
    "p_value = 1-(percentile_rank/100)"
   ]
  },
  {
   "cell_type": "code",
   "execution_count": 190,
   "metadata": {},
   "outputs": [
    {
     "data": {
      "image/png": "[encoded data removed]",
      "text/plain": [
       "<Figure size 200x250 with 1 Axes>"
      ]
     },
     "metadata": {},
     "output_type": "display_data"
    }
   ],
   "source": [
    "plt.figure(figsize=(2,2.5))  \n",
    "bin_edges = np.arange(0, 1+0.04, 0.04)\n",
    "plt.hist(acc_sh, bins=bin_edges, alpha=0.3, color='green')\n",
    "plt.axvline(acc_svm,color='red', alpha=0.7)\n",
    "plt.xlabel('Accuracy', fontsize=12)\n",
    "plt.ylabel('Count', fontsize=12)\n",
    "plt.xticks([0.0,0.5,1.0]) \n",
    "plt.ylim(0,300)\n",
    "plt.title(f'{mouse}, S{Session},\\nSVM (linear kernel),\\nmorning cv,\\ntrai&test_shuffle,\\nacc={acc_svm:.2f}, pval={p_value:.3f}')\n",
    "plt.tight_layout()\n",
    "plt.savefig(f'C:\\\\Users\\\\ebukina\\\\Desktop\\\\eva\\\\results\\\\models_left_right\\\\S{Session}\\\\{mouse}_S{Session}_SVM_ab.png', dpi=300, bbox_inches='tight')\n",
    "plt.show()"
   ]
  },
  {
   "cell_type": "markdown",
   "metadata": {},
   "source": [
    "## Social classification\n"
   ]
  },
  {
   "cell_type": "code",
   "execution_count": 43,
   "metadata": {},
   "outputs": [],
   "source": [
    "n_clusters=2\n",
    "firing_rates_concat = np.concatenate((fr_dic[a_idx], fr_dic[b_idx]),axis=0)"
   ]
  },
  {
   "cell_type": "code",
   "execution_count": 44,
   "metadata": {},
   "outputs": [],
   "source": [
    "# Standardize the data\n",
    "scaler = StandardScaler() # z-scoring (x-mean)/sd\n",
    "scaled_data = scaler.fit_transform(firing_rates_concat)\n",
    "\n",
    "# Apply PCA\n",
    "pca = PCA(n_components=2)  # Choose number of components based on explained variance\n",
    "principal_components = pca.fit_transform(scaled_data)\n",
    "\n",
    "# Scale each principal component to range from -1 to 1\n",
    "scaler = MinMaxScaler(feature_range=(-1, 1))\n",
    "principal_components = scaler.fit_transform(principal_components)  "
   ]
  },
  {
   "cell_type": "code",
   "execution_count": 45,
   "metadata": {},
   "outputs": [
    {
     "data": {
      "text/plain": [
       "(60, 2)"
      ]
     },
     "execution_count": 45,
     "metadata": {},
     "output_type": "execute_result"
    }
   ],
   "source": [
    "principal_components.shape"
   ]
  },
  {
   "cell_type": "code",
   "execution_count": 49,
   "metadata": {},
   "outputs": [
    {
     "data": {
      "text/plain": [
       "((30, 2), (30, 2), (2,))"
      ]
     },
     "execution_count": 49,
     "metadata": {},
     "output_type": "execute_result"
    }
   ],
   "source": [
    "k = int(principal_components.shape[0]/n_clusters)\n",
    "\n",
    "a_pca = principal_components[:k,:]\n",
    "b_pca = principal_components[k:,:]\n",
    "\n",
    "centroid_a_pca = np.median(a_pca, axis=0).reshape(1, -1)[0]\n",
    "centroid_b_pca = np.median(b_pca, axis=0).reshape(1, -1)[0]\n",
    "\n",
    "a_pca.shape, b_pca.shape, centroid_a_pca.shape"
   ]
  },
  {
   "cell_type": "code",
   "execution_count": 195,
   "metadata": {},
   "outputs": [],
   "source": [
    "def fit_gaussian(data):\n",
    "    \"\"\"Fit a 2D Gaussian to the data and return the mean and covariance.\"\"\"\n",
    "    mean = np.mean(data, axis=0)\n",
    "    cov = np.cov(data, rowvar=False)\n",
    "    return mean, cov\n",
    "\n",
    "def plot_ellipse(mean, cov, ax, n_std=1.0, color='red', **kwargs):\n",
    "    \"\"\"Plot an ellipse representing the Gaussian mean ± n_std * standard deviations.\"\"\"\n",
    "    # Eigenvalue decomposition to find the axis lengths and rotation angle\n",
    "    vals, vecs = np.linalg.eigh(cov)\n",
    "    order = vals.argsort()[::-1]\n",
    "    vals, vecs = vals[order], vecs[:, order]\n",
    "    \n",
    "    theta = np.degrees(np.arctan2(*vecs[:, 0][::-1]))\n",
    "    \n",
    "    # Width and height are \"full\" lengths, not radius\n",
    "    width, height = 2 * n_std * np.sqrt(vals)\n",
    "    \n",
    "    ell = patches.Ellipse(xy=mean, width=width, height=height, angle=theta, edgecolor=None, facecolor=color, alpha=0.35, **kwargs)\n",
    "    ax.add_patch(ell)"
   ]
  },
  {
   "cell_type": "code",
   "execution_count": 47,
   "metadata": {},
   "outputs": [
    {
     "data": {
      "image/png": "[encoded data removed]",
      "text/plain": [
       "<Figure size 400x400 with 1 Axes>"
      ]
     },
     "metadata": {},
     "output_type": "display_data"
    }
   ],
   "source": [
    "data_pca = [a_pca, b_pca]\n",
    "colors = ['#1F77B4', '#FF8113']\n",
    "names = ['alpha port', 'beta port']\n",
    "\n",
    "fig, ax = plt.subplots(figsize=(4, 4))\n",
    "\n",
    "i = 0\n",
    "for data, color in zip(data_pca, colors):\n",
    "    mean, cov = fit_gaussian(data)\n",
    "    plot_ellipse(mean, cov, ax, color=color)\n",
    "    i+=1\n",
    "\n",
    "i = 0\n",
    "for data, color in zip(data_pca, colors):\n",
    "    # Plot data points\n",
    "    ax.scatter(data[:, 0], data[:, 1], s=30, color=color, label=names[i], edgecolor='k',  linewidth=0.5)\n",
    "    i+=1\n",
    "\n",
    "plt.axvline(0,  linestyle = '--', color='#808080', alpha=0.3)\n",
    "plt.axhline(0,  linestyle = '--', color='#808080', alpha=0.3)\n",
    "# plt.grid(True)\n",
    "# plt.axis('equal')\n",
    "plt.xlabel('PC 1')\n",
    "plt.ylabel('PC 2')\n",
    "# plt.ylim(-1,1)\n",
    "# plt.xlim(-1,1)\n",
    "plt.xticks([-1, -0.5, 0, 0.5, 1])\n",
    "plt.yticks([-1, -0.5, 0, 0.5, 1])\n",
    "plt.title('Population responcses in PC space')\n",
    "# plt.legend()\n",
    "plt.tight_layout()\n",
    "plt.savefig(f'C:\\\\Users\\\\ebukina\\\\Desktop\\\\eva\\\\results\\\\models_left_right\\\\S{Session}\\\\{mouse}_S{Session}_pc_soc.png', dpi=300, bbox_inches='tight')\n",
    "plt.show() "
   ]
  },
  {
   "cell_type": "code",
   "execution_count": 48,
   "metadata": {},
   "outputs": [
    {
     "data": {
      "image/png": "[encoded data removed]",
      "text/plain": [
       "<Figure size 250x250 with 1 Axes>"
      ]
     },
     "metadata": {},
     "output_type": "display_data"
    }
   ],
   "source": [
    "data_pca = [a_pca, b_pca]\n",
    "colors = ['#1F77B4', '#FF8113']\n",
    "names = ['alpha port', 'beta port']\n",
    "\n",
    "fig, ax = plt.subplots(figsize=(2.5,2.5))\n",
    "\n",
    "i = 0\n",
    "for data, color in zip(data_pca, colors):\n",
    "    mean, cov = fit_gaussian(data)\n",
    "    plot_ellipse(mean, cov, ax, color=color)\n",
    "    i+=1\n",
    "\n",
    "i = 0\n",
    "for data, color in zip(data_pca, colors):\n",
    "    # Plot data points\n",
    "    ax.scatter(data[:, 0], data[:, 1], s=10, color=color, label=names[i], edgecolor='k',  linewidth=0.5)\n",
    "    i+=1\n",
    "\n",
    "plt.axvline(0,  linestyle = '--', color='#808080', alpha=0.3)\n",
    "plt.axhline(0,  linestyle = '--', color='#808080', alpha=0.3)\n",
    "# plt.grid(True)\n",
    "# plt.axis('equal')\n",
    "plt.xlabel('PC 1')\n",
    "plt.ylabel('PC 2')\n",
    "# plt.ylim(-1,1)\n",
    "# plt.xlim(-1,1)\n",
    "plt.xticks([-1, 0, 1])\n",
    "plt.yticks([-1, 0, 1])\n",
    "# plt.title('Population responcses in PC space')\n",
    "# plt.legend()\n",
    "plt.tight_layout()\n",
    "plt.savefig(f'C:\\\\Users\\\\ebukina\\\\Desktop\\\\eva\\\\results\\\\models_left_right\\\\S{Session}\\\\{mouse}_S{Session}_pc_soc_mini.png', dpi=300, bbox_inches='tight')\n",
    "plt.show() "
   ]
  },
  {
   "cell_type": "markdown",
   "metadata": {},
   "source": [
    "## Mahalanobis distances"
   ]
  },
  {
   "cell_type": "code",
   "execution_count": 198,
   "metadata": {},
   "outputs": [],
   "source": [
    "from scipy.spatial.distance import mahalanobis"
   ]
  },
  {
   "cell_type": "code",
   "execution_count": 50,
   "metadata": {},
   "outputs": [],
   "source": [
    "covar = np.cov(principal_components.T)\n",
    "covarinv = np.linalg.inv(covar)\n",
    "\n",
    "# bw alpha and beta\n",
    "\n",
    "\n",
    "MDic_aa = [mahalanobis(x, centroid_a_pca, covarinv) for x in a_pca]\n",
    "MDic_ab = [mahalanobis(x, centroid_a_pca, covarinv) for x in b_pca]\n",
    "MDic_ba = [mahalanobis(x, centroid_b_pca, covarinv) for x in a_pca]\n",
    "MDic_bb = [mahalanobis(x, centroid_b_pca, covarinv) for x in b_pca]"
   ]
  },
  {
   "cell_type": "code",
   "execution_count": 51,
   "metadata": {},
   "outputs": [
    {
     "data": {
      "text/plain": [
       "array([[0.51809599, 0.91931175],\n",
       "       [0.8658839 , 0.72181041]])"
      ]
     },
     "execution_count": 51,
     "metadata": {},
     "output_type": "execute_result"
    }
   ],
   "source": [
    "MD_matrix = np.zeros((2,2))\n",
    "MD_matrix[0,0] = np.median(np.array(MDic_aa))\n",
    "MD_matrix[0,1] = np.median(np.array(MDic_ab))\n",
    "MD_matrix[1,0] = np.median(np.array(MDic_ba))\n",
    "MD_matrix[1,1] = np.median(np.array(MDic_bb))\n",
    "\n",
    "MD_matrix"
   ]
  },
  {
   "cell_type": "code",
   "execution_count": 201,
   "metadata": {},
   "outputs": [],
   "source": [
    "import seaborn as sns\n",
    "import math"
   ]
  },
  {
   "cell_type": "code",
   "execution_count": 52,
   "metadata": {},
   "outputs": [
    {
     "data": {
      "image/png": "[encoded data removed]",
      "text/plain": [
       "<Figure size 120x150 with 2 Axes>"
      ]
     },
     "metadata": {},
     "output_type": "display_data"
    }
   ],
   "source": [
    "plt.figure(figsize=(1.2, 1.5))\n",
    "\n",
    "labels = ['Alpha', 'Beta']\n",
    "\n",
    "# Create the heatmap\n",
    "sns.heatmap(MD_matrix, annot=MD_matrix, cmap='binary', cbar_kws={'label': 'Mahalanobis distance'}, linewidths=1, linecolor='white', square=True, vmin=0, vmax=math.sqrt(8))\n",
    "\n",
    "# # Customize the heatmap\n",
    "plt.xticks(ticks=np.arange(len(labels))+0.5, labels=labels, rotation=0)\n",
    "plt.yticks(ticks=np.arange(len(labels))+0.5, labels=labels, rotation=90)\n",
    "\n",
    "plt.title('Average distance in PC space\\n')\n",
    "plt.savefig(f'C:\\\\Users\\\\ebukina\\\\Desktop\\\\eva\\\\results\\\\models_left_right\\\\S{Session}\\\\{mouse}_S{Session}_MD_soc_matrix.png', dpi=300, bbox_inches='tight')\n",
    "plt.show()"
   ]
  },
  {
   "cell_type": "markdown",
   "metadata": {},
   "source": [
    "## Shuffle control"
   ]
  },
  {
   "cell_type": "code",
   "execution_count": 53,
   "metadata": {},
   "outputs": [],
   "source": [
    "MD_cnt_ab = mahalanobis(centroid_a_pca, centroid_b_pca,covarinv)"
   ]
  },
  {
   "cell_type": "code",
   "execution_count": 54,
   "metadata": {},
   "outputs": [],
   "source": [
    "ab_sh, p_value_ab = dist_shuffle(principal_components, MD_cnt_ab)"
   ]
  },
  {
   "cell_type": "code",
   "execution_count": 61,
   "metadata": {},
   "outputs": [
    {
     "data": {
      "image/png": "[encoded data removed]",
      "text/plain": [
       "<Figure size 190x240 with 1 Axes>"
      ]
     },
     "metadata": {},
     "output_type": "display_data"
    }
   ],
   "source": [
    "D_real, D_sh, D_p_val, type = MD_cnt_ab, ab_sh, p_value_ab, 'MD_ab_behav'\n",
    "plt.figure(figsize=(1.9,2.4)) \n",
    "bin_edges = np.arange(np.min(np.array(D_sh)), np.max(np.array(D_sh))+0.02, 0.02)\n",
    "plt.hist(D_sh, alpha=0.5, bins=bin_edges, color='#808080')\n",
    "plt.axvline(D_real,color='red')\n",
    "plt.title(f\"{type} between centroids\\nD = {D_real:.1f}, p_val = {D_p_val:.3f}\\n\")\n",
    "plt.xlabel('Mahalanobis\\ndistance',  fontsize=12)\n",
    "plt.ylabel('Count',  fontsize=12)\n",
    "plt.tight_layout()\n",
    "plt.xlim(0, 2.5)\n",
    "plt.ylim(0, 65)\n",
    "plt.savefig(f'C:\\\\Users\\\\ebukina\\\\Desktop\\\\eva\\\\results\\\\models_left_right\\\\S{Session}\\\\{mouse}_S{Session}_D_{type}_soc.png', dpi=300, bbox_inches='tight')\n",
    "plt.show()"
   ]
  },
  {
   "cell_type": "markdown",
   "metadata": {},
   "source": [
    "## Classifiers"
   ]
  },
  {
   "cell_type": "code",
   "execution_count": 205,
   "metadata": {},
   "outputs": [
    {
     "data": {
      "text/plain": [
       "((30, 23), (30, 23))"
      ]
     },
     "execution_count": 205,
     "metadata": {},
     "output_type": "execute_result"
    }
   ],
   "source": [
    "# data prep\n",
    "alpha_data = fr_dic[a_idx]\n",
    "beta_data = fr_dic[b_idx]\n",
    "\n",
    "num_rows = alpha_data.shape[0]\n",
    "shuffled_indices = list(range(num_rows))\n",
    "\n",
    "random.shuffle(shuffled_indices)\n",
    "alpha_data = alpha_data[shuffled_indices]\n",
    "\n",
    "random.shuffle(shuffled_indices)\n",
    "beta_data = beta_data[shuffled_indices]\n",
    "\n",
    "alpha_data.shape, beta_data.shape"
   ]
  },
  {
   "cell_type": "code",
   "execution_count": 206,
   "metadata": {},
   "outputs": [],
   "source": [
    "def SVMsoc(alpha_data, beta_data, kernel = 'linear', cv=5):\n",
    "\n",
    "    # random.seed(666)\n",
    "    # params\n",
    "    num_rows = alpha_data.shape[0]\n",
    "    indices = list(range(num_rows))\n",
    "    train_proportion = 6 # out of 30 trials\n",
    "\n",
    "    # collect outcomes\n",
    "    accuracy_cv5 = []\n",
    "\n",
    "    for n in range(cv):\n",
    "        test_alpha_idx = random.sample(indices, train_proportion)\n",
    "        train_alpha_idx = [number for number in indices if number not in test_alpha_idx]\n",
    "        test_alpha = alpha_data[test_alpha_idx]\n",
    "        train_alpha = alpha_data[train_alpha_idx]\n",
    "\n",
    "        test_beta_idx = random.sample(indices, train_proportion)\n",
    "        train_beta_idx = [number for number in indices if number not in test_beta_idx]\n",
    "        test_beta = beta_data[test_beta_idx]\n",
    "        train_beta = beta_data[train_beta_idx]\n",
    "\n",
    "        test_ab = np.concatenate((test_alpha,test_beta), axis=0)\n",
    "        train_ab = np.concatenate((train_alpha,train_beta), axis=0)\n",
    "\n",
    "        # Standardize the data\n",
    "        scaler = StandardScaler()\n",
    "        test_ab = scaler.fit_transform(test_ab)\n",
    "        train_ab = scaler.fit_transform(train_ab)\n",
    "\n",
    "        y_test = np.concatenate((np.ones(test_alpha.shape[0]),np.zeros(test_beta.shape[0])))\n",
    "        y_train = np.concatenate((np.ones(train_alpha.shape[0]),np.zeros(train_beta.shape[0])))\n",
    "\n",
    "        # randomize train\n",
    "        num_rows = train_ab.shape[0]\n",
    "        shuffled_indices = list(range(num_rows))\n",
    "        random.shuffle(shuffled_indices)\n",
    "        train_ab = train_ab[shuffled_indices]\n",
    "        y_train = y_train[shuffled_indices]\n",
    "\n",
    "        svm_classifier_cv = SVC(kernel=kernel, random_state=666)\n",
    "        svm_classifier_cv.fit(train_ab, y_train)\n",
    "        y_pred = svm_classifier_cv.predict(test_ab)\n",
    "        accuracy_cv5.append(accuracy_score(y_test, y_pred)) \n",
    "\n",
    "    return np.mean(np.array(accuracy_cv5)) "
   ]
  },
  {
   "cell_type": "code",
   "execution_count": 207,
   "metadata": {},
   "outputs": [
    {
     "data": {
      "text/plain": [
       "0.85"
      ]
     },
     "execution_count": 207,
     "metadata": {},
     "output_type": "execute_result"
    }
   ],
   "source": [
    "acc_svm = SVMsoc(alpha_data, beta_data)\n",
    "acc_svm"
   ]
  },
  {
   "cell_type": "code",
   "execution_count": 208,
   "metadata": {},
   "outputs": [],
   "source": [
    "acc_sh_ab = []\n",
    "# shuffle trials\n",
    "# random.seed(666)\n",
    "shuffled_indices = list(range(len(alpha_data)*2))\n",
    "for sh in range(1000):\n",
    "    # data prep\n",
    "    data_ab = np.concatenate((alpha_data,beta_data), axis=0)\n",
    "    random.shuffle(shuffled_indices)\n",
    "    # print(shuffled_indices)\n",
    "    data_ab = data_ab[shuffled_indices]\n",
    "    k = alpha_data.shape[0]\n",
    "    a_sh = data_ab[:k]\n",
    "    b_sh = data_ab[k:]\n",
    "    \n",
    "    acc_sh_ab.append(SVMsoc(a_sh, b_sh))"
   ]
  },
  {
   "cell_type": "code",
   "execution_count": 209,
   "metadata": {},
   "outputs": [],
   "source": [
    "acc_sh_ab_sorted = np.sort(np.array(acc_sh_ab))\n",
    "percentile_rank = percentileofscore(acc_sh_ab_sorted, np.mean(acc_svm))\n",
    "# one-tailored\n",
    "p_value_ab = 1-(percentile_rank/100)"
   ]
  },
  {
   "cell_type": "code",
   "execution_count": 210,
   "metadata": {},
   "outputs": [
    {
     "data": {
      "image/png": "[encoded data removed]",
      "text/plain": [
       "<Figure size 200x250 with 1 Axes>"
      ]
     },
     "metadata": {},
     "output_type": "display_data"
    }
   ],
   "source": [
    "plt.figure(figsize=(2,2.5)) \n",
    "bin_edges = np.arange(0, 1+0.04, 0.04)\n",
    "plt.hist(acc_sh_ab, bins=bin_edges, alpha=0.3, color='#cc3333')\n",
    "plt.axvline(acc_svm,color='red', alpha=0.7)\n",
    "plt.xlabel('Accuracy', fontsize=12)\n",
    "plt.ylabel('Count', fontsize=12)\n",
    "plt.xticks([0.0,0.5,1.0]) \n",
    "plt.ylim(0,300)\n",
    "plt.title(f'{mouse}, S{Session},\\nSVM (linear kernel),\\nmorning cv,\\ntrai&test_shuffle,\\nacc={acc_svm:.2f}, pval={p_value:.3f}')\n",
    "plt.tight_layout()\n",
    "plt.savefig(f'C:\\\\Users\\\\ebukina\\\\Desktop\\\\eva\\\\results\\\\models_left_right\\\\S{Session}\\\\{mouse}_S{Session}_SVM_soc.png', dpi=300, bbox_inches='tight')\n",
    "plt.show()"
   ]
  },
  {
   "cell_type": "code",
   "execution_count": null,
   "metadata": {},
   "outputs": [],
   "source": []
  }
 ],
 "metadata": {
  "kernelspec": {
   "display_name": "Python 3 (ipykernel)",
   "language": "python",
   "name": "python3"
  },
  "language_info": {
   "codemirror_mode": {
    "name": "ipython",
    "version": 3
   },
   "file_extension": ".py",
   "mimetype": "text/x-python",
   "name": "python",
   "nbconvert_exporter": "python",
   "pygments_lexer": "ipython3",
   "version": "3.11.5"
  }
 },
 "nbformat": 4,
 "nbformat_minor": 1
}
