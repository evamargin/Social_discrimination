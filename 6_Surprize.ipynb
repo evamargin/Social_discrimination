{
 "cells": [
  {
   "cell_type": "markdown",
   "metadata": {},
   "source": [
    "# Surprize"
   ]
  },
  {
   "cell_type": "code",
   "execution_count": 104,
   "metadata": {},
   "outputs": [],
   "source": [
    "import sys\n",
    "import os as os\n",
    "import numpy as np\n",
    "try:\n",
    "    import cPickle as pickle\n",
    "except:\n",
    "    import pickle as pkl\n",
    "\n",
    "import scipy as scipy\n",
    "import scipy.io as spio\n",
    "import pandas as pd\n",
    "import matplotlib.pyplot as plt\n",
    "import matplotlib as mpl\n",
    "from scipy import signal\n",
    "from scipy.signal import find_peaks\n",
    "from scipy.ndimage import gaussian_filter1d\n",
    "from scipy.io.matlab import mat_struct\n",
    "import pickle\n",
    "import random\n",
    "random.seed(666)\n",
    "\n",
    "from sklearn.mixture import GaussianMixture\n",
    "from matplotlib.patches import Ellipse\n",
    "\n",
    "def loadmat(filename):\n",
    "    '''\n",
    "    this function should be called instead of direct spio.loadmat\n",
    "    as it cures the problem of not properly recovering python dictionaries\n",
    "    from mat files. It calls the function check keys to cure all entries\n",
    "    which are still mat-objects\n",
    "    '''\n",
    "    data = spio.loadmat(filename, struct_as_record=True, squeeze_me=True)\n",
    "    return _check_keys(data)\n",
    "\n",
    "def _check_keys(dict):\n",
    "    '''\n",
    "    checks if entries in dictionary are mat-objects. If yes\n",
    "    todict is called to change them to nested dictionaries\n",
    "    '''\n",
    "    for key in dict:\n",
    "        if isinstance(dict[key], scipy.io.matlab.mat_struct):\n",
    "            dict[key] = _todict(dict[key])\n",
    "    return dict        \n",
    "\n",
    "def _todict(matobj):\n",
    "    '''\n",
    "    A recursive function which constructs from matobjects nested dictionaries\n",
    "    '''\n",
    "    dict = {}\n",
    "    for strg in matobj._fieldnames:\n",
    "        elem = matobj.__dict__[strg]\n",
    "        if isinstance(elem, scipy.io.matlab.mat_struct):\n",
    "            dict[strg] = _todict(elem)\n",
    "        else:\n",
    "            dict[strg] = elem\n",
    "    return dict"
   ]
  },
  {
   "cell_type": "code",
   "execution_count": 105,
   "metadata": {},
   "outputs": [],
   "source": [
    "meta = {}\n",
    "meta[45] = {'mouse':'3C280', 'ks':'Kilosort_2024-04-12_162032', 'del_units':[594], 'vis_mice':np.array(['nan', 'beta', 'alpha'])}\n",
    "meta[46] = {'mouse':'3C280', 'ks':'Kilosort_2024-04-12_180855', 'del_units':None, 'vis_mice':np.array(['nan', 'alpha', 'beta'])}\n",
    "meta[11] = {'mouse':'3C290', 'ks':'Kilosort_2024-05-06_154258', 'del_units':[847, 835], 'vis_mice':np.array(['nan', 'beta', 'alpha'])}\n",
    "meta[13] = {'mouse':'3C290', 'ks':'Kilosort_2024-05-14_120055', 'del_units':None, 'vis_mice':np.array(['nan', 'beta', 'alpha'])}\n",
    "meta[14] = {'mouse':'3C290', 'ks':'Kilosort_2024-05-14_122629', 'del_units':None, 'vis_mice':np.array(['nan', 'beta', 'alpha'])}\n",
    "meta[19] = {'mouse':'3C290', 'ks':'Kilosort_2024-05-14_140410', 'del_units':None, 'vis_mice':np.array(['nan', 'beta', 'alpha'])}\n",
    "meta[20] = {'mouse':'3C290', 'ks':'Kilosort_2024-05-15_110539', 'del_units':[33], 'vis_mice':np.array(['nan', 'beta', 'alpha'])}"
   ]
  },
  {
   "cell_type": "code",
   "execution_count": 106,
   "metadata": {},
   "outputs": [],
   "source": [
    "Session = 20\n",
    "mouse = meta[Session]['mouse']\n",
    "vis_mice = meta[Session]['vis_mice']\n",
    "vis_mice = list(vis_mice)\n",
    "vis_mice.append('blank')\n",
    "vis_mice = vis_mice[1:]"
   ]
  },
  {
   "cell_type": "code",
   "execution_count": 107,
   "metadata": {},
   "outputs": [],
   "source": [
    "matfile =  f'L:\\\\everyone\\\\sharedDATA\\\\ProcessedDATA\\\\{mouse}\\\\{mouse}_S{Session}\\\\PSTH.mat'\n",
    "surprize = loadmat(matfile)"
   ]
  },
  {
   "cell_type": "code",
   "execution_count": 108,
   "metadata": {},
   "outputs": [],
   "source": [
    "alpha = 0.01"
   ]
  },
  {
   "cell_type": "code",
   "execution_count": 109,
   "metadata": {},
   "outputs": [],
   "source": [
    "active_blocks = [1,2,3]\n",
    "PSTH_dic = {}\n",
    "for block in active_blocks:\n",
    "    psth_block = {}\n",
    "    psth_block['Pi_poi'] = surprize['PSTH'][block][6][:,0]\n",
    "    psth_block['Pd_poi'] = surprize['PSTH'][block][6][:,1]\n",
    "    psth_block['sum_i'] = np.sum(surprize['PSTH'][block][6][:,0]<alpha)\n",
    "    psth_block['sum_d'] = np.sum(surprize['PSTH'][block][6][:,1]<alpha)\n",
    "    psth_block['idx_i'] = np.where(surprize['PSTH'][block][6][:,0]<alpha)[0]\n",
    "    psth_block['idx_d'] = np.where(surprize['PSTH'][block][6][:,1]<alpha)[0]\n",
    "    PSTH_dic[block] = psth_block"
   ]
  },
  {
   "cell_type": "code",
   "execution_count": 110,
   "metadata": {},
   "outputs": [],
   "source": [
    "i_list = []\n",
    "d_list = []\n",
    "for block in active_blocks:\n",
    "    i_list.append(PSTH_dic[block]['idx_i'])\n",
    "    d_list.append(PSTH_dic[block]['idx_d'])"
   ]
  },
  {
   "cell_type": "code",
   "execution_count": 111,
   "metadata": {},
   "outputs": [
    {
     "data": {
      "text/plain": [
       "([array([11], dtype=int64),\n",
       "  array([11], dtype=int64),\n",
       "  array([ 1,  2,  6, 13], dtype=int64)],)"
      ]
     },
     "execution_count": 111,
     "metadata": {},
     "output_type": "execute_result"
    }
   ],
   "source": [
    "i_list,"
   ]
  },
  {
   "cell_type": "code",
   "execution_count": 112,
   "metadata": {},
   "outputs": [
    {
     "data": {
      "text/plain": [
       "[array([ 3,  4,  8,  9, 12, 14, 15], dtype=int64),\n",
       " array([ 3,  8, 14], dtype=int64),\n",
       " array([3], dtype=int64)]"
      ]
     },
     "execution_count": 112,
     "metadata": {},
     "output_type": "execute_result"
    }
   ],
   "source": [
    "d_list\n"
   ]
  },
  {
   "cell_type": "code",
   "execution_count": 113,
   "metadata": {},
   "outputs": [
    {
     "data": {
      "text/plain": [
       "['beta', 'alpha', 'blank']"
      ]
     },
     "execution_count": 113,
     "metadata": {},
     "output_type": "execute_result"
    }
   ],
   "source": [
    "vis_mice"
   ]
  },
  {
   "cell_type": "code",
   "execution_count": 114,
   "metadata": {},
   "outputs": [],
   "source": [
    "i_d_results = {}"
   ]
  },
  {
   "cell_type": "code",
   "execution_count": 115,
   "metadata": {},
   "outputs": [
    {
     "name": "stdout",
     "output_type": "stream",
     "text": [
      "only_in_beta: 0\n",
      "only_in_alpha: 0\n",
      "only_in_blank: 4\n",
      "in_beta_and_alpha: 1\n",
      "in_alpha_and_blank: 0\n",
      "in_beta_and_blank: 0\n",
      "in_all_three: 0\n"
     ]
    }
   ],
   "source": [
    "# Corresponding names (example order)\n",
    "names = vis_mice\n",
    "\n",
    "# Create a dictionary to map each name to its corresponding set\n",
    "sets = {\n",
    "    names[0]: set(i_list[0]),\n",
    "    names[1]: set(i_list[1]),\n",
    "    names[2]: set(i_list[2])\n",
    "}\n",
    "\n",
    "# Perform set operations\n",
    "results_i = {\n",
    "    f'only_in_{names[0]}': len(sets[names[0]] - sets[names[1]] - sets[names[2]]),\n",
    "    f'only_in_{names[1]}': len(sets[names[1]] - sets[names[0]] - sets[names[2]]),\n",
    "    f'only_in_{names[2]}': len(sets[names[2]] - sets[names[0]] - sets[names[1]]),\n",
    "    f'in_{names[0]}_and_{names[1]}': len((sets[names[0]] & sets[names[1]]) - sets[names[2]]),\n",
    "    f'in_{names[1]}_and_{names[2]}': len((sets[names[1]] & sets[names[2]]) - sets[names[0]]),\n",
    "    f'in_{names[0]}_and_{names[2]}': len((sets[names[0]] & sets[names[2]]) - sets[names[1]]),\n",
    "    f'in_all_three': len(sets[names[0]] & sets[names[1]] & sets[names[2]])\n",
    "}\n",
    "i_d_results['i'] = results_i\n",
    "# Print the results\n",
    "for key, value in results_i.items():\n",
    "    print(f\"{key}: {value}\")"
   ]
  },
  {
   "cell_type": "code",
   "execution_count": 116,
   "metadata": {},
   "outputs": [
    {
     "name": "stdout",
     "output_type": "stream",
     "text": [
      "only_in_beta: 4\n",
      "only_in_alpha: 0\n",
      "only_in_blank: 0\n",
      "in_beta_and_alpha: 2\n",
      "in_alpha_and_blank: 0\n",
      "in_beta_and_blank: 0\n",
      "in_all_three: 1\n"
     ]
    }
   ],
   "source": [
    "# Corresponding names (example order)\n",
    "names = vis_mice\n",
    "\n",
    "# Create a dictionary to map each name to its corresponding set\n",
    "sets = {\n",
    "    names[0]: set(d_list[0]),\n",
    "    names[1]: set(d_list[1]),\n",
    "    names[2]: set(d_list[2])\n",
    "}\n",
    "\n",
    "# Perform set operations\n",
    "results_d = {\n",
    "    f'only_in_{names[0]}': len(sets[names[0]] - sets[names[1]] - sets[names[2]]),\n",
    "    f'only_in_{names[1]}': len(sets[names[1]] - sets[names[0]] - sets[names[2]]),\n",
    "    f'only_in_{names[2]}': len(sets[names[2]] - sets[names[0]] - sets[names[1]]),\n",
    "    f'in_{names[0]}_and_{names[1]}': len((sets[names[0]] & sets[names[1]]) - sets[names[2]]),\n",
    "    f'in_{names[1]}_and_{names[2]}': len((sets[names[1]] & sets[names[2]]) - sets[names[0]]),\n",
    "    f'in_{names[0]}_and_{names[2]}': len((sets[names[0]] & sets[names[2]]) - sets[names[1]]),\n",
    "    f'in_all_three': len(sets[names[0]] & sets[names[1]] & sets[names[2]])\n",
    "}\n",
    "i_d_results['d'] = results_d\n",
    "# Print the results\n",
    "for key, value in results_d.items():\n",
    "    print(f\"{key}: {value}\")"
   ]
  },
  {
   "cell_type": "code",
   "execution_count": 117,
   "metadata": {},
   "outputs": [],
   "source": [
    "try:\n",
    "    os.makedirs(f'C:\\\\Users\\\\ebukina\\\\Desktop\\\\eva\\\\results\\\\surprize')\n",
    "except:\n",
    "    pass"
   ]
  },
  {
   "cell_type": "code",
   "execution_count": 118,
   "metadata": {},
   "outputs": [],
   "source": [
    "save_path = f'C:\\\\Users\\\\ebukina\\\\Desktop\\\\eva\\\\results\\\\surprize\\\\{mouse}_S{Session}_surprize.pkl'\n",
    "with open(save_path, 'wb') as f:\n",
    "    pickle.dump(i_d_results, f)"
   ]
  },
  {
   "cell_type": "code",
   "execution_count": 119,
   "metadata": {},
   "outputs": [],
   "source": [
    "save_path = f'C:\\\\Users\\\\ebukina\\\\Desktop\\\\eva\\\\results\\\\surprize\\\\{mouse}_S{Session}_PSTH_dic.pkl'\n",
    "with open(save_path, 'wb') as f:\n",
    "    pickle.dump(PSTH_dic, f)"
   ]
  },
  {
   "cell_type": "code",
   "execution_count": 120,
   "metadata": {},
   "outputs": [],
   "source": [
    "# only_in_alpha: 0\n",
    "# only_in_beta: 3\n",
    "# only_in_blank: 1\n",
    "# in_alpha_and_beta: 4\n",
    "# in_beta_and_blank: 3\n",
    "# in_alpha_and_blank: 4\n",
    "# in_all_three: 5\n",
    "\n",
    "\n",
    "# only_in_beta: 0\n",
    "# only_in_alpha: 3\n",
    "# only_in_blank: 1\n",
    "# in_beta_and_alpha: 4\n",
    "# in_alpha_and_blank: 3\n",
    "# in_beta_and_blank: 4\n",
    "# in_all_three: 5"
   ]
  },
  {
   "cell_type": "code",
   "execution_count": null,
   "metadata": {},
   "outputs": [],
   "source": []
  },
  {
   "cell_type": "code",
   "execution_count": null,
   "metadata": {},
   "outputs": [],
   "source": []
  },
  {
   "cell_type": "code",
   "execution_count": null,
   "metadata": {},
   "outputs": [],
   "source": []
  }
 ],
 "metadata": {
  "kernelspec": {
   "display_name": "Python 3",
   "language": "python",
   "name": "python3"
  },
  "language_info": {
   "codemirror_mode": {
    "name": "ipython",
    "version": 3
   },
   "file_extension": ".py",
   "mimetype": "text/x-python",
   "name": "python",
   "nbconvert_exporter": "python",
   "pygments_lexer": "ipython3",
   "version": "3.11.5"
  }
 },
 "nbformat": 4,
 "nbformat_minor": 2
}
