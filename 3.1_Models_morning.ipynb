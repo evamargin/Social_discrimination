{
 "cells": [
  {
   "cell_type": "markdown",
   "metadata": {},
   "source": [
    "# Models "
   ]
  },
  {
   "cell_type": "code",
   "execution_count": 1,
   "metadata": {},
   "outputs": [],
   "source": [
    "import sys\n",
    "import os as os\n",
    "import numpy as np\n",
    "try:\n",
    "    import cPickle as pickle\n",
    "except:\n",
    "    import pickle as pkl\n",
    "\n",
    "import scipy as scipy\n",
    "import scipy.io as spio\n",
    "import pandas as pd\n",
    "import matplotlib.pyplot as plt\n",
    "import matplotlib as mpl\n",
    "from scipy import signal\n",
    "from scipy.signal import find_peaks\n",
    "from scipy.ndimage import gaussian_filter1d\n",
    "from scipy.io.matlab import mat_struct\n",
    "import pickle\n",
    "import random\n",
    "random.seed(666)\n",
    "\n",
    "def loadmat(filename):\n",
    "    '''\n",
    "    this function should be called instead of direct spio.loadmat\n",
    "    as it cures the problem of not properly recovering python dictionaries\n",
    "    from mat files. It calls the function check keys to cure all entries\n",
    "    which are still mat-objects\n",
    "    '''\n",
    "    data = spio.loadmat(filename, struct_as_record=True, squeeze_me=True)\n",
    "    return _check_keys(data)\n",
    "\n",
    "def _check_keys(dict):\n",
    "    '''\n",
    "    checks if entries in dictionary are mat-objects. If yes\n",
    "    todict is called to change them to nested dictionaries\n",
    "    '''\n",
    "    for key in dict:\n",
    "        if isinstance(dict[key], scipy.io.matlab.mat_struct):\n",
    "            dict[key] = _todict(dict[key])\n",
    "    return dict        \n",
    "\n",
    "def _todict(matobj):\n",
    "    '''\n",
    "    A recursive function which constructs from matobjects nested dictionaries\n",
    "    '''\n",
    "    dict = {}\n",
    "    for strg in matobj._fieldnames:\n",
    "        elem = matobj.__dict__[strg]\n",
    "        if isinstance(elem, scipy.io.matlab.mat_struct):\n",
    "            dict[strg] = _todict(elem)\n",
    "        else:\n",
    "            dict[strg] = elem\n",
    "    return dict"
   ]
  },
  {
   "cell_type": "markdown",
   "metadata": {},
   "source": [
    "## Load session data"
   ]
  },
  {
   "cell_type": "code",
   "execution_count": 2,
   "metadata": {},
   "outputs": [],
   "source": [
    "meta = {}\n",
    "meta[45] = {'mouse':'3C280', 'ks':'Kilosort_2024-04-12_162032', 'del_units':[594], 'vis_mice':np.array(['nan', 'beta', 'alpha'])}\n",
    "meta[46] = {'mouse':'3C280', 'ks':'Kilosort_2024-04-12_180855', 'del_units':None, 'vis_mice':np.array(['nan', 'alpha', 'beta'])}\n",
    "meta[11] = {'mouse':'3C290', 'ks':'Kilosort_2024-05-06_154258', 'del_units':[847, 835], 'vis_mice':np.array(['nan', 'beta', 'alpha'])}\n",
    "meta[13] = {'mouse':'3C290', 'ks':'Kilosort_2024-05-14_120055', 'del_units':None, 'vis_mice':np.array(['nan', 'beta', 'alpha'])}\n",
    "meta[14] = {'mouse':'3C290', 'ks':'Kilosort_2024-05-14_122629', 'del_units':None, 'vis_mice':np.array(['nan', 'beta', 'alpha'])}\n",
    "meta[19] = {'mouse':'3C290', 'ks':'Kilosort_2024-05-14_140410', 'del_units':None, 'vis_mice':np.array(['nan', 'beta', 'alpha'])}\n",
    "meta[20] = {'mouse':'3C290', 'ks':'Kilosort_2024-05-15_110539', 'del_units':[33], 'vis_mice':np.array(['nan', 'beta', 'alpha'])}\n"
   ]
  },
  {
   "cell_type": "code",
   "execution_count": 3,
   "metadata": {},
   "outputs": [],
   "source": [
    "Session = 14"
   ]
  },
  {
   "cell_type": "code",
   "execution_count": 4,
   "metadata": {},
   "outputs": [],
   "source": [
    "mouse = meta[Session]['mouse']\n",
    "ks = meta[Session]['ks']\n",
    "del_units=meta[Session]['del_units']\n",
    "vis_mice = meta[Session]['vis_mice']\n",
    "active_blocks = [1,2,3]"
   ]
  },
  {
   "cell_type": "code",
   "execution_count": 5,
   "metadata": {},
   "outputs": [],
   "source": [
    "a_idx = np.where(vis_mice=='alpha')[0][0]\n",
    "b_idx = np.where(vis_mice=='beta')[0][0]\n",
    "c_idx = 3 "
   ]
  },
  {
   "cell_type": "code",
   "execution_count": 6,
   "metadata": {},
   "outputs": [],
   "source": [
    "# create folder to save results\n",
    "try:\n",
    "    os.makedirs(f'C:\\\\Users\\\\ebukina\\\\Desktop\\\\eva\\\\results\\\\models_a_b_bl')\n",
    "except:\n",
    "    pass"
   ]
  },
  {
   "cell_type": "code",
   "execution_count": 7,
   "metadata": {},
   "outputs": [],
   "source": [
    "# create folder to save results\n",
    "try:\n",
    "    os.makedirs(f'C:\\\\Users\\\\ebukina\\\\Desktop\\\\eva\\\\results\\\\models_a_b_bl\\\\S{Session}')\n",
    "except:\n",
    "    pass"
   ]
  },
  {
   "cell_type": "markdown",
   "metadata": {},
   "source": [
    "### Ephys data"
   ]
  },
  {
   "cell_type": "code",
   "execution_count": 8,
   "metadata": {},
   "outputs": [],
   "source": [
    "KSdir = f'L:\\\\everyone\\\\sharedDATA\\\\ProcessedDATA\\\\{mouse}\\\\{mouse}_S{Session}\\\\{ks}\\\\'\n",
    "\n",
    "spiketimesfile = KSdir+\"spike_times.npy\"  \n",
    "spiketimes = np.load(spiketimesfile)  #### all spiketimes as indexes regardless of cluster\n",
    "\n",
    "clusterfile = KSdir+\"spike_clusters.npy\"\n",
    "spikeclusters = np.load(clusterfile) #### cluster id for each detected spike\n",
    "\n",
    "Clusterinfofile = KSdir+\"cluster_info.tsv\"\n",
    "Clusterinfo = pd.read_csv(Clusterinfofile,sep='\\t') #### cluster meta-data matrix"
   ]
  },
  {
   "cell_type": "code",
   "execution_count": 9,
   "metadata": {},
   "outputs": [
    {
     "name": "stdout",
     "output_type": "stream",
     "text": [
      "Session 14: 32 good clusters\n"
     ]
    }
   ],
   "source": [
    "goodclusts = Clusterinfo['cluster_id'][np.where(Clusterinfo['group']=='good')[0]]\n",
    "goods = []\n",
    "for clust in goodclusts :\n",
    "    goods.append(clust)\n",
    "print(f'Session {Session}: {len(goods)} good clusters')"
   ]
  },
  {
   "cell_type": "code",
   "execution_count": 10,
   "metadata": {},
   "outputs": [],
   "source": [
    "goodspiketimes = {}\n",
    "\n",
    "spikethresh = 1000 # min nb of spikes\n",
    "for goodunit in goods :\n",
    "    goodinds = np.where(spikeclusters==goodunit)[0]\n",
    "    if goodinds.shape[0] > spikethresh : \n",
    "        goodspiketimes[goodunit] = spiketimes[goodinds]"
   ]
  },
  {
   "cell_type": "code",
   "execution_count": 11,
   "metadata": {},
   "outputs": [
    {
     "data": {
      "text/plain": [
       "32"
      ]
     },
     "execution_count": 11,
     "metadata": {},
     "output_type": "execute_result"
    }
   ],
   "source": [
    "len(goodspiketimes.keys())"
   ]
  },
  {
   "cell_type": "markdown",
   "metadata": {},
   "source": [
    "### Behavior data"
   ]
  },
  {
   "cell_type": "code",
   "execution_count": 12,
   "metadata": {},
   "outputs": [],
   "source": [
    "matfile =  f'L:\\\\everyone\\\\sharedDATA\\\\ProcessedDATA\\\\{mouse}\\\\{mouse}_S{Session}\\\\Behaviour.mat'\n",
    "EvaBehavior = loadmat(matfile)"
   ]
  },
  {
   "cell_type": "code",
   "execution_count": 13,
   "metadata": {},
   "outputs": [],
   "source": [
    "def load_behavioral_event(event_idx, time_to_idx = True):\n",
    "    '''\n",
    "    returns dictionary; keys - blocks; inside - array with event :\n",
    "    time stamps in [sec] if time_to_idx = False\n",
    "    indexes if time_to_idx = True\n",
    "    '''\n",
    "    event_dic = {}\n",
    "\n",
    "    for block in np.arange(EvaBehavior['Behaviour'].shape[0]) :\n",
    "        if time_to_idx:\n",
    "            event_dic[block] = EvaBehavior['Behaviour'][block][event_idx]*20000\n",
    "        else:\n",
    "            event_dic[block] = EvaBehavior['Behaviour'][block][event_idx]\n",
    "        event_dic[block] = event_dic[block].astype(int)\n",
    "    \n",
    "    return event_dic"
   ]
  },
  {
   "cell_type": "code",
   "execution_count": 14,
   "metadata": {},
   "outputs": [],
   "source": [
    "TestSocialSampleWindowPerTrial = load_behavioral_event(12)"
   ]
  },
  {
   "cell_type": "markdown",
   "metadata": {},
   "source": [
    "## Data prep: firing rate array"
   ]
  },
  {
   "cell_type": "code",
   "execution_count": 15,
   "metadata": {},
   "outputs": [],
   "source": [
    "import copy"
   ]
  },
  {
   "cell_type": "code",
   "execution_count": 16,
   "metadata": {},
   "outputs": [],
   "source": [
    "def fr_matrix_prep(beforesamples, aftersamples, blocks, bins, del_units=None):\n",
    "    # discard wierd cells based on rasters\n",
    "    goodspiketimes_copy = copy.deepcopy(goodspiketimes)\n",
    "\n",
    "    try:\n",
    "        for unit in del_units:\n",
    "            del goodspiketimes_copy[unit]\n",
    "    except:\n",
    "        pass\n",
    "\n",
    "    units = goodspiketimes_copy.keys()\n",
    "    fr_dic = {}\n",
    "   \n",
    "    for block in blocks:\n",
    "        n_trials = TestSocialSampleWindowPerTrial[block].shape[0]\n",
    "        n_units = len(goodspiketimes_copy.keys())\n",
    "\n",
    "        fr_matrix = np.zeros((n_trials, n_units))\n",
    "\n",
    "        i = 0\n",
    "        for unit in units: # list of good cluster_id\n",
    "            \n",
    "            \n",
    "            for event in np.arange(TestSocialSampleWindowPerTrial[block].shape[0]) : #iterate by npoke events\n",
    "\n",
    "                onset = TestSocialSampleWindowPerTrial[block][event,0]\n",
    "                offset = TestSocialSampleWindowPerTrial[block][event,1]\n",
    "                \n",
    "                cond1 = np.where(goodspiketimes_copy[unit].astype(int)>=onset-beforesamples)[0]\n",
    "                cond2 = np.where(goodspiketimes_copy[unit].astype(int)<=offset+aftersamples)[0]\n",
    "                unitspikes = goodspiketimes_copy[unit][np.intersect1d(cond1,cond2)].astype(int)-onset\n",
    "\n",
    "                n = np.histogram(unitspikes, bins=bins)[0][0]\n",
    "                fr = n/0.25\n",
    "                fr_matrix[event, i] = fr\n",
    "            i+=1\n",
    "                \n",
    "        fr_dic[block] = fr_matrix\n",
    "    \n",
    "    return fr_dic\n",
    "        "
   ]
  },
  {
   "cell_type": "markdown",
   "metadata": {},
   "source": [
    "### Firing rates"
   ]
  },
  {
   "cell_type": "markdown",
   "metadata": {},
   "source": [
    "firing rate [Hz] = spike_count/ time_window(sec)\n",
    "\n",
    "* lets find it for each trial for each cell\n",
    "* we will make an array where each row is trial; each column - neuron; we will collect it in dict where keys = blocks"
   ]
  },
  {
   "cell_type": "code",
   "execution_count": 17,
   "metadata": {},
   "outputs": [],
   "source": [
    "## find spikes in interesting behavioral window\n",
    "samplplimg_rate = 20*1000 #20 kHz\n",
    "beforesamples = 0*samplplimg_rate # 1 sec (expressed in samples for a 20khz sampling rate)\n",
    "aftersamples = 0*samplplimg_rate # 1 sec\n",
    "npoke_window = 0.25\n",
    "eventlength = npoke_window*samplplimg_rate # 0.25 s\n",
    "\n",
    "binsize = 0.25*samplplimg_rate \n",
    "bins = np.linspace(-beforesamples,aftersamples+eventlength,int((beforesamples+aftersamples+eventlength)/binsize)+1)"
   ]
  },
  {
   "cell_type": "code",
   "execution_count": 18,
   "metadata": {},
   "outputs": [],
   "source": [
    "# 250 ms during the nosepoke\n",
    "fr_dic = fr_matrix_prep(beforesamples, aftersamples, blocks=active_blocks, bins=bins, del_units=del_units)"
   ]
  },
  {
   "cell_type": "code",
   "execution_count": 19,
   "metadata": {},
   "outputs": [
    {
     "data": {
      "text/plain": [
       "dict_keys([1, 2, 3])"
      ]
     },
     "execution_count": 19,
     "metadata": {},
     "output_type": "execute_result"
    }
   ],
   "source": [
    "fr_dic.keys()"
   ]
  },
  {
   "cell_type": "code",
   "execution_count": 20,
   "metadata": {},
   "outputs": [
    {
     "data": {
      "text/plain": [
       "(30, 32)"
      ]
     },
     "execution_count": 20,
     "metadata": {},
     "output_type": "execute_result"
    }
   ],
   "source": [
    "fr_dic[1].shape"
   ]
  },
  {
   "cell_type": "markdown",
   "metadata": {},
   "source": [
    "## Classifiers"
   ]
  },
  {
   "cell_type": "code",
   "execution_count": 21,
   "metadata": {},
   "outputs": [],
   "source": [
    "from sklearn.svm import SVC\n",
    "from sklearn.naive_bayes import GaussianNB\n",
    "from scipy.stats import percentileofscore\n",
    "from sklearn.model_selection import GridSearchCV\n",
    "from sklearn.preprocessing import StandardScaler\n",
    "from sklearn.metrics import classification_report, accuracy_score, confusion_matrix"
   ]
  },
  {
   "cell_type": "code",
   "execution_count": 22,
   "metadata": {},
   "outputs": [
    {
     "data": {
      "text/plain": [
       "((30, 32), (30, 32), (30, 32), (30, 32))"
      ]
     },
     "execution_count": 22,
     "metadata": {},
     "output_type": "execute_result"
    }
   ],
   "source": [
    "# data prep\n",
    "alpha_data = fr_dic[a_idx]\n",
    "beta_data = fr_dic[b_idx]\n",
    "blank_data = fr_dic[c_idx]\n",
    "\n",
    "# random.seed(666)\n",
    "\n",
    "num_rows = alpha_data.shape[0]\n",
    "shuffled_indices = list(range(num_rows))\n",
    "\n",
    "random.shuffle(shuffled_indices)\n",
    "alpha_data = alpha_data[shuffled_indices]\n",
    "\n",
    "random.shuffle(shuffled_indices)\n",
    "beta_data = beta_data[shuffled_indices]\n",
    "\n",
    "num_rows = alpha_data.shape[0]\n",
    "social_data = np.concatenate((alpha_data[:int(num_rows/2),:], beta_data[int(num_rows/2):,:]), axis=0)\n",
    "\n",
    "random.shuffle(shuffled_indices)\n",
    "blank_data = blank_data[shuffled_indices]\n",
    "\n",
    "alpha_data.shape, beta_data.shape, blank_data.shape, social_data.shape"
   ]
  },
  {
   "cell_type": "markdown",
   "metadata": {},
   "source": [
    "### SVC"
   ]
  },
  {
   "cell_type": "markdown",
   "metadata": {},
   "source": [
    "#### GridSearch cv"
   ]
  },
  {
   "cell_type": "code",
   "execution_count": 23,
   "metadata": {},
   "outputs": [],
   "source": [
    "def data_prep(alpha_data, beta_data): # not standartized!!!!\n",
    "    # prepare dataset\n",
    "    num_rows = alpha_data.shape[0]\n",
    "    indices = list(range(num_rows))\n",
    "\n",
    "    random.seed(666)\n",
    "    # alpha\n",
    "    test_alpha_idx = random.sample(indices, 5)\n",
    "    train_valid_alpha_idx = [number for number in indices if number not in test_alpha_idx]\n",
    "    test_alpha = alpha_data[test_alpha_idx]\n",
    "    train_valid_alpha = alpha_data[train_valid_alpha_idx]\n",
    "\n",
    "    # beta\n",
    "    test_beta_idx = random.sample(indices, 5)\n",
    "    train_valid_beta_idx = [number for number in indices if number not in test_beta_idx]\n",
    "    test_beta = beta_data[test_beta_idx]\n",
    "    train_valid_beta = beta_data[train_valid_beta_idx]\n",
    "\n",
    "    # alphaa+beta datasets\n",
    "    test_ab = np.concatenate((test_alpha,test_beta), axis=0)\n",
    "    train_valid_ab = np.concatenate((train_valid_alpha,train_valid_beta), axis=0)\n",
    "\n",
    "    y_test = np.concatenate((np.ones(test_alpha.shape[0]),np.zeros(test_beta.shape[0])))\n",
    "    y_train_valid = np.concatenate((np.ones(train_valid_alpha.shape[0]),np.zeros(train_valid_beta.shape[0])))\n",
    "\n",
    "\n",
    "    # randomize train\n",
    "    num_rows = train_valid_ab.shape[0]\n",
    "    shuffled_indices = list(range(num_rows))\n",
    "    random.shuffle(shuffled_indices)\n",
    "    train_valid_ab = train_valid_ab[shuffled_indices]\n",
    "    y_train_valid = y_train_valid[shuffled_indices]\n",
    "\n",
    "    return train_valid_ab, y_train_valid, test_ab, y_test"
   ]
  },
  {
   "cell_type": "code",
   "execution_count": 24,
   "metadata": {},
   "outputs": [
    {
     "data": {
      "text/plain": [
       "((50, 32), (50,), (10, 32), (10,))"
      ]
     },
     "execution_count": 24,
     "metadata": {},
     "output_type": "execute_result"
    }
   ],
   "source": [
    "# alpha vs beta data\n",
    "X_train_ab, y_train_ab, X_test_ab, y_test_ab = data_prep(alpha_data, beta_data)\n",
    "\n",
    "X_train_ab.shape, y_train_ab.shape, X_test_ab.shape, y_test_ab.shape"
   ]
  },
  {
   "cell_type": "code",
   "execution_count": 25,
   "metadata": {},
   "outputs": [
    {
     "data": {
      "text/plain": [
       "((50, 32), (50,), (10, 32), (10,))"
      ]
     },
     "execution_count": 25,
     "metadata": {},
     "output_type": "execute_result"
    }
   ],
   "source": [
    "# social vs blank data\n",
    "X_train_sb, y_train_sb, X_test_sb, y_test_sb = data_prep(social_data, blank_data)\n",
    "\n",
    "X_train_sb.shape, y_train_sb.shape, X_test_sb.shape, y_test_sb.shape"
   ]
  },
  {
   "cell_type": "code",
   "execution_count": 26,
   "metadata": {},
   "outputs": [],
   "source": [
    "def gridsearchcv(X_train, y_train, X_test, y_test):\n",
    "    # Standardize the data\n",
    "    scaler = StandardScaler()\n",
    "    X_train = scaler.fit_transform(X_train)\n",
    "    X_test = scaler.transform(X_test)\n",
    "\n",
    "    # Define the parameter grid\n",
    "    param_grid = {\n",
    "        'C': [0.1, 1, 10, 100],\n",
    "        'kernel': ['linear', 'rbf', 'poly'],\n",
    "        'gamma': ['scale', 'auto']  # Only needed for non-linear kernels\n",
    "    }\n",
    "\n",
    "    # Initialize Grid Search with Cross-Validation\n",
    "    grid_search = GridSearchCV(SVC(), param_grid, cv=5, scoring='accuracy')\n",
    "\n",
    "    # Fit the model\n",
    "    grid_search.fit(X_train, y_train)\n",
    "\n",
    "    # Evaluate the best model\n",
    "    best_model = grid_search.best_estimator_\n",
    "    y_pred_ab = best_model.predict(X_test)\n",
    "\n",
    "\n",
    "    print(\"Best Parameters:\", grid_search.best_params_)\n",
    "    print(\"Accuracy:\", accuracy_score(y_test_ab, y_pred_ab))\n",
    "    print(\"Confusion Matrix:\\n\", confusion_matrix(y_test_ab, y_pred_ab))\n",
    "    print(\"Classification Report:\\n\", classification_report(y_test_ab, y_pred_ab))\n",
    "\n",
    "    return best_model, accuracy_score(y_test_ab, y_pred_ab)\n"
   ]
  },
  {
   "cell_type": "code",
   "execution_count": 27,
   "metadata": {},
   "outputs": [
    {
     "name": "stdout",
     "output_type": "stream",
     "text": [
      "Best Parameters: {'C': 10, 'gamma': 'scale', 'kernel': 'rbf'}\n",
      "Accuracy: 0.6\n",
      "Confusion Matrix:\n",
      " [[4 1]\n",
      " [3 2]]\n",
      "Classification Report:\n",
      "               precision    recall  f1-score   support\n",
      "\n",
      "         0.0       0.57      0.80      0.67         5\n",
      "         1.0       0.67      0.40      0.50         5\n",
      "\n",
      "    accuracy                           0.60        10\n",
      "   macro avg       0.62      0.60      0.58        10\n",
      "weighted avg       0.62      0.60      0.58        10\n",
      "\n"
     ]
    }
   ],
   "source": [
    "best_model_svm_ab, accuracy_svm_ab = gridsearchcv(X_train_ab, y_train_ab, X_test_ab, y_test_ab)"
   ]
  },
  {
   "cell_type": "code",
   "execution_count": 28,
   "metadata": {},
   "outputs": [
    {
     "name": "stdout",
     "output_type": "stream",
     "text": [
      "Best Parameters: {'C': 0.1, 'gamma': 'scale', 'kernel': 'linear'}\n",
      "Accuracy: 1.0\n",
      "Confusion Matrix:\n",
      " [[5 0]\n",
      " [0 5]]\n",
      "Classification Report:\n",
      "               precision    recall  f1-score   support\n",
      "\n",
      "         0.0       1.00      1.00      1.00         5\n",
      "         1.0       1.00      1.00      1.00         5\n",
      "\n",
      "    accuracy                           1.00        10\n",
      "   macro avg       1.00      1.00      1.00        10\n",
      "weighted avg       1.00      1.00      1.00        10\n",
      "\n"
     ]
    }
   ],
   "source": [
    "best_model_svm_sb, accuracy_svm_sb = gridsearchcv(X_train_sb, y_train_sb, X_test_sb, y_test_sb)"
   ]
  },
  {
   "cell_type": "markdown",
   "metadata": {},
   "source": [
    "#### Old fashioned method"
   ]
  },
  {
   "cell_type": "code",
   "execution_count": 29,
   "metadata": {},
   "outputs": [],
   "source": [
    "def SVM(alpha_data, beta_data, kernel = 'linear', cv=5):\n",
    "\n",
    "    # random.seed(666)\n",
    "    # params\n",
    "    num_rows = alpha_data.shape[0]\n",
    "    indices = list(range(num_rows))\n",
    "    train_proportion = 6 # out of 30 trials\n",
    "\n",
    "    # collect outcomes\n",
    "    accuracy_cv5 = []\n",
    "\n",
    "    for n in range(cv):\n",
    "        test_alpha_idx = random.sample(indices, train_proportion)\n",
    "        train_alpha_idx = [number for number in indices if number not in test_alpha_idx]\n",
    "        test_alpha = alpha_data[test_alpha_idx]\n",
    "        train_alpha = alpha_data[train_alpha_idx]\n",
    "\n",
    "        test_beta_idx = random.sample(indices, train_proportion)\n",
    "        train_beta_idx = [number for number in indices if number not in test_beta_idx]\n",
    "        test_beta = beta_data[test_beta_idx]\n",
    "        train_beta = beta_data[train_beta_idx]\n",
    "\n",
    "        test_ab = np.concatenate((test_alpha,test_beta), axis=0)\n",
    "        train_ab = np.concatenate((train_alpha,train_beta), axis=0)\n",
    "\n",
    "        # Standardize the data\n",
    "        scaler = StandardScaler()\n",
    "        test_ab = scaler.fit_transform(test_ab)\n",
    "        train_ab = scaler.fit_transform(train_ab)\n",
    "\n",
    "        y_test = np.concatenate((np.ones(test_alpha.shape[0]),np.zeros(test_beta.shape[0])))\n",
    "        y_train = np.concatenate((np.ones(train_alpha.shape[0]),np.zeros(train_beta.shape[0])))\n",
    "\n",
    "        # randomize train\n",
    "        num_rows = train_ab.shape[0]\n",
    "        shuffled_indices = list(range(num_rows))\n",
    "        random.shuffle(shuffled_indices)\n",
    "        train_ab = train_ab[shuffled_indices]\n",
    "        y_train = y_train[shuffled_indices]\n",
    "\n",
    "        svm_classifier_cv = SVC(kernel=kernel, random_state=666)\n",
    "        svm_classifier_cv.fit(train_ab, y_train)\n",
    "        y_pred = svm_classifier_cv.predict(test_ab)\n",
    "        accuracy_cv5.append(accuracy_score(y_test, y_pred)) \n",
    "\n",
    "    return np.mean(np.array(accuracy_cv5)) "
   ]
  },
  {
   "cell_type": "code",
   "execution_count": 30,
   "metadata": {},
   "outputs": [
    {
     "data": {
      "text/plain": [
       "0.65"
      ]
     },
     "execution_count": 30,
     "metadata": {},
     "output_type": "execute_result"
    }
   ],
   "source": [
    "acc_svm_ab = SVM(alpha_data, beta_data)\n",
    "acc_svm_ab"
   ]
  },
  {
   "cell_type": "code",
   "execution_count": 31,
   "metadata": {},
   "outputs": [
    {
     "data": {
      "text/plain": [
       "0.95"
      ]
     },
     "execution_count": 31,
     "metadata": {},
     "output_type": "execute_result"
    }
   ],
   "source": [
    "acc_svm_sb = SVM(social_data, blank_data)\n",
    "acc_svm_sb"
   ]
  },
  {
   "cell_type": "code",
   "execution_count": 32,
   "metadata": {},
   "outputs": [],
   "source": [
    "acc_sh_ab = []\n",
    "# shuffle trials\n",
    "# random.seed(666)\n",
    "shuffled_indices = list(range(len(alpha_data)*2))\n",
    "for sh in range(1000):\n",
    "    # data prep\n",
    "    data_ab = np.concatenate((alpha_data,beta_data), axis=0)\n",
    "    random.shuffle(shuffled_indices)\n",
    "    # print(shuffled_indices)\n",
    "    data_ab = data_ab[shuffled_indices]\n",
    "    k = alpha_data.shape[0]\n",
    "    a_sh = data_ab[:k]\n",
    "    b_sh = data_ab[k:]\n",
    "    \n",
    "    acc_sh_ab.append(SVM(a_sh, b_sh))\n",
    "    "
   ]
  },
  {
   "cell_type": "code",
   "execution_count": 33,
   "metadata": {},
   "outputs": [],
   "source": [
    "acc_sh_sb = []\n",
    "# shuffle trials\n",
    "# random.seed(666)\n",
    "shuffled_indices = list(range(len(social_data)*2))\n",
    "for sh in range(1000):\n",
    "    # data prep\n",
    "    data_sb = np.concatenate((social_data,blank_data), axis=0)\n",
    "    random.shuffle(shuffled_indices)\n",
    "    # print(shuffled_indices)\n",
    "    data_sb = data_sb[shuffled_indices]\n",
    "    k = social_data.shape[0]\n",
    "    s_sh = data_sb[:k]\n",
    "    bl_sh = data_sb[k:]\n",
    "    \n",
    "    acc_sh_sb.append(SVM(s_sh, bl_sh))"
   ]
  },
  {
   "cell_type": "code",
   "execution_count": 34,
   "metadata": {},
   "outputs": [],
   "source": [
    "acc_sh_ab_sorted = np.sort(np.array(acc_sh_ab))\n",
    "percentile_rank = percentileofscore(acc_sh_ab_sorted, np.mean(acc_svm_ab))\n",
    "# one-tailored\n",
    "p_value_ab = 1-(percentile_rank/100)"
   ]
  },
  {
   "cell_type": "code",
   "execution_count": 35,
   "metadata": {},
   "outputs": [],
   "source": [
    "acc_sh_sb_sorted = np.sort(np.array(acc_sh_sb))\n",
    "percentile_rank = percentileofscore(acc_sh_sb_sorted, np.mean(acc_svm_sb))\n",
    "# one-tailored\n",
    "p_value_sb = 1-(percentile_rank/100)"
   ]
  },
  {
   "cell_type": "code",
   "execution_count": 36,
   "metadata": {},
   "outputs": [],
   "source": [
    "#colors\n",
    "\n",
    "# svm\n",
    "Purple ='#800080' #sb\n",
    "Tomato = '#FF6347' #ab\n",
    "\n",
    "# bayes\n",
    "MediumBlue = '#0000CD' #sb\n",
    "HotPink = '#FF69B4' #ab"
   ]
  },
  {
   "cell_type": "code",
   "execution_count": 37,
   "metadata": {},
   "outputs": [
    {
     "data": {
      "image/png": "[encoded data removed]",
      "text/plain": [
       "<Figure size 300x300 with 1 Axes>"
      ]
     },
     "metadata": {},
     "output_type": "display_data"
    }
   ],
   "source": [
    "plt.figure(figsize=(3,3)) \n",
    "bin_edges = np.arange(0, 1+0.04, 0.04)\n",
    "plt.hist(acc_sh_ab, bins=bin_edges, alpha=0.5, color='#FF6347')\n",
    "plt.axvline(acc_svm_ab,color='red', alpha=0.7)\n",
    "plt.xlabel('Accuracy', fontsize=12)\n",
    "plt.ylabel('Count', fontsize=12)\n",
    "plt.xticks(rotation=45)\n",
    "plt.xticks(np.arange(0, 1.1, 0.1)) \n",
    "plt.ylim(0,500)\n",
    "plt.title(f'{mouse}, S{Session},\\nSVM (linear kernel),\\nmorning cv,\\ntrai&test_shuffle,\\nacc={acc_svm_ab:.2f}, pval={p_value_ab:.3f}')\n",
    "plt.tight_layout()\n",
    "plt.savefig(f'C:\\\\Users\\\\ebukina\\\\Desktop\\\\eva\\\\results\\\\models_a_b_bl\\\\S{Session}\\\\{mouse}_S{Session}_SVM_ab.png', dpi=300, bbox_inches='tight')\n",
    "plt.show()"
   ]
  },
  {
   "cell_type": "code",
   "execution_count": 38,
   "metadata": {},
   "outputs": [
    {
     "data": {
      "image/png": "[encoded data removed]",
      "text/plain": [
       "<Figure size 300x300 with 1 Axes>"
      ]
     },
     "metadata": {},
     "output_type": "display_data"
    }
   ],
   "source": [
    "plt.figure(figsize=(3,3)) \n",
    "bin_edges = np.arange(0, 1+0.04, 0.04)\n",
    "plt.hist(acc_sh_sb, bins=bin_edges, alpha=0.5, color='#800080')\n",
    "plt.axvline(acc_svm_sb,color='red', alpha=0.7)\n",
    "plt.xlabel('Accuracy', fontsize=12)\n",
    "plt.ylabel('Count', fontsize=12)\n",
    "plt.xticks(rotation=45)\n",
    "plt.xticks(np.arange(0, 1.1, 0.1)) \n",
    "plt.ylim(0,500)\n",
    "plt.title(f'{mouse}, S{Session},\\nSVM (linear kernel),\\nmorning cv,\\ntrai&test_shuffle,\\nacc={acc_svm_sb:.2f}, pval={p_value_sb:.3f}')\n",
    "plt.tight_layout()\n",
    "plt.savefig(f'C:\\\\Users\\\\ebukina\\\\Desktop\\\\eva\\\\results\\\\models_a_b_bl\\\\S{Session}\\\\{mouse}_S{Session}_SVM_sb.png', dpi=300, bbox_inches='tight')\n",
    "plt.show()"
   ]
  },
  {
   "cell_type": "markdown",
   "metadata": {},
   "source": [
    "#### Bayes"
   ]
  },
  {
   "cell_type": "markdown",
   "metadata": {},
   "source": [
    "In scikit-learn, there are several types of Naive Bayes classifiers, each suited for different types of data:\n",
    "\n",
    "- **Gaussian Naive Bayes (GaussianNB):** Suitable for continuous data that follows a normal (Gaussian) distribution.\n",
    "- **Multinomial Naive Bayes (MultinomialNB):** Suitable for discrete data (e.g., counts of occurrences in text classification).\n",
    "- **Bernoulli Naive Bayes (BernoulliNB):** Suitable for binary/boolean data.\n",
    "- **Complement Naive Bayes (ComplementNB):** Designed to handle imbalanced datasets, particularly in text classification.\n",
    "- **Categorical Naive Bayes (CategoricalNB):** Suitable for categorical features (new in scikit-learn 0.24).\n",
    "\n",
    "\n",
    "Choosing the Right Naive Bayes Classifier:\n",
    "\n",
    "- **GaussianNB**: Use this if your features are continuous and you assume they follow a Gaussian distribution.\n",
    "- **MultinomialNB**: Use this if your features are counts or frequencies (e.g., term frequencies in text data).\n",
    "- **BernoulliNB**: Use this if your features are binary (0 or 1).\n",
    "- **ComplementNB**: Use this if you have an imbalanced dataset, especially in text classification.\n",
    "- Catego**ricalNB: Use this if your features are categorical.\n",
    "\n",
    "\n",
    "---> we will use **GaussianNB**\n",
    "\n",
    "---> # There are no hyperparameters for GaussianNB to tune with GridSearchCV"
   ]
  },
  {
   "cell_type": "code",
   "execution_count": 39,
   "metadata": {},
   "outputs": [],
   "source": [
    "def bayes(alpha_data, beta_data, cv=5):\n",
    "\n",
    "    # random.seed(666)\n",
    "    # params\n",
    "    num_rows = alpha_data.shape[0]\n",
    "    indices = list(range(num_rows))\n",
    "    train_proportion = 6 # out of 30 trials\n",
    "\n",
    "    # collect outcomes\n",
    "    accuracy_cv5 = []\n",
    "\n",
    "    for n in range(cv):\n",
    "        test_alpha_idx = random.sample(indices, train_proportion)\n",
    "        train_alpha_idx = [number for number in indices if number not in test_alpha_idx]\n",
    "        test_alpha = alpha_data[test_alpha_idx]\n",
    "        train_alpha = alpha_data[train_alpha_idx]\n",
    "\n",
    "        test_beta_idx = random.sample(indices, train_proportion)\n",
    "        train_beta_idx = [number for number in indices if number not in test_beta_idx]\n",
    "        test_beta = beta_data[test_beta_idx]\n",
    "        train_beta = beta_data[train_beta_idx]\n",
    "\n",
    "        test_ab = np.concatenate((test_alpha,test_beta), axis=0)\n",
    "        train_ab = np.concatenate((train_alpha,train_beta), axis=0)\n",
    "\n",
    "        # # Standardize the data\n",
    "        # scaler = StandardScaler()\n",
    "        # test_ab = scaler.fit_transform(test_ab)\n",
    "        # train_ab = scaler.fit_transform(train_ab)\n",
    "\n",
    "        y_test = np.concatenate((np.ones(test_alpha.shape[0]),np.zeros(test_beta.shape[0])))\n",
    "        y_train = np.concatenate((np.ones(train_alpha.shape[0]),np.zeros(train_beta.shape[0])))\n",
    "\n",
    "        # randomize train\n",
    "        num_rows = train_ab.shape[0]\n",
    "        shuffled_indices = list(range(num_rows))\n",
    "        random.shuffle(shuffled_indices)\n",
    "        train_ab = train_ab[shuffled_indices]\n",
    "        y_train = y_train[shuffled_indices]\n",
    "\n",
    "        bayes_classifier_cv = GaussianNB()\n",
    "        bayes_classifier_cv.fit(train_ab, y_train)\n",
    "        y_pred = bayes_classifier_cv.predict(test_ab)\n",
    "        accuracy_cv5.append(accuracy_score(y_test, y_pred)) \n",
    "\n",
    "    return np.mean(np.array(accuracy_cv5)) "
   ]
  },
  {
   "cell_type": "code",
   "execution_count": 40,
   "metadata": {},
   "outputs": [
    {
     "data": {
      "text/plain": [
       "0.6166666666666667"
      ]
     },
     "execution_count": 40,
     "metadata": {},
     "output_type": "execute_result"
    }
   ],
   "source": [
    "acc_bayes_ab = bayes(alpha_data, beta_data)\n",
    "acc_bayes_ab"
   ]
  },
  {
   "cell_type": "code",
   "execution_count": 41,
   "metadata": {},
   "outputs": [
    {
     "data": {
      "text/plain": [
       "0.9166666666666666"
      ]
     },
     "execution_count": 41,
     "metadata": {},
     "output_type": "execute_result"
    }
   ],
   "source": [
    "acc_bayes_sb = bayes(social_data, blank_data)\n",
    "acc_bayes_sb"
   ]
  },
  {
   "cell_type": "code",
   "execution_count": 42,
   "metadata": {},
   "outputs": [],
   "source": [
    "acc_sh_bayes_ab = []\n",
    "# shuffle trials\n",
    "# random.seed(666)\n",
    "shuffled_indices = list(range(len(alpha_data)*2))\n",
    "for sh in range(1000):\n",
    "    # data prep\n",
    "    data_ab = np.concatenate((alpha_data,beta_data), axis=0)\n",
    "    random.shuffle(shuffled_indices)\n",
    "    # print(shuffled_indices)\n",
    "    data_ab = data_ab[shuffled_indices]\n",
    "    k = alpha_data.shape[0]\n",
    "    a_sh = data_ab[:k]\n",
    "    b_sh = data_ab[k:]\n",
    "    \n",
    "    acc_sh_bayes_ab.append(bayes(a_sh, b_sh))"
   ]
  },
  {
   "cell_type": "code",
   "execution_count": 43,
   "metadata": {},
   "outputs": [],
   "source": [
    "acc_sh_bayes_sb = []\n",
    "# shuffle trials\n",
    "# random.seed(666)\n",
    "shuffled_indices = list(range(len(social_data)*2))\n",
    "for sh in range(1000):\n",
    "    # data prep\n",
    "    data_sb = np.concatenate((social_data,blank_data), axis=0)\n",
    "    random.shuffle(shuffled_indices)\n",
    "    # print(shuffled_indices)\n",
    "    data_sb = data_sb[shuffled_indices]\n",
    "    k = social_data.shape[0]\n",
    "    s_sh = data_sb[:k]\n",
    "    bl_sh = data_sb[k:]\n",
    "    \n",
    "    acc_sh_bayes_sb.append(bayes(s_sh, bl_sh))"
   ]
  },
  {
   "cell_type": "code",
   "execution_count": 44,
   "metadata": {},
   "outputs": [],
   "source": [
    "acc_sh_bayes_ab_sorted = np.sort(np.array(acc_sh_bayes_ab))\n",
    "percentile_rank = percentileofscore(acc_sh_bayes_ab_sorted, np.mean(acc_bayes_ab))\n",
    "# one-tailored\n",
    "p_value_bayes_ab = 1-(percentile_rank/100)"
   ]
  },
  {
   "cell_type": "code",
   "execution_count": 45,
   "metadata": {},
   "outputs": [],
   "source": [
    "acc_sh_bayes_sb_sorted = np.sort(np.array(acc_sh_bayes_sb))\n",
    "percentile_rank = percentileofscore(acc_sh_bayes_sb_sorted, np.mean(acc_bayes_sb))\n",
    "# one-tailored\n",
    "p_value_bayes_sb = 1-(percentile_rank/100)"
   ]
  },
  {
   "cell_type": "code",
   "execution_count": 46,
   "metadata": {},
   "outputs": [
    {
     "data": {
      "image/png": "[encoded data removed]",
      "text/plain": [
       "<Figure size 300x300 with 1 Axes>"
      ]
     },
     "metadata": {},
     "output_type": "display_data"
    }
   ],
   "source": [
    "plt.figure(figsize=(3,3)) \n",
    "bin_edges = np.arange(0, 1+0.04, 0.04)\n",
    "plt.hist(acc_sh_bayes_ab, bins=bin_edges, alpha=0.5, color='#FF69B4')\n",
    "plt.axvline(acc_bayes_ab,color='red', alpha=0.7)\n",
    "plt.xlabel('Accuracy', fontsize=12)\n",
    "plt.ylabel('Count', fontsize=12)\n",
    "plt.xticks(rotation=45)\n",
    "plt.xticks(np.arange(0, 1.1, 0.1)) \n",
    "plt.ylim(0,500)\n",
    "plt.title(f'{mouse}, S{Session},\\nBayes,\\nmorning cv,\\ntrai&test_shuffle,\\nacc={acc_bayes_ab:.2f}, pval={p_value_bayes_ab:.3f}')\n",
    "plt.tight_layout()\n",
    "plt.savefig(f'C:\\\\Users\\\\ebukina\\\\Desktop\\\\eva\\\\results\\\\models_a_b_bl\\\\S{Session}\\\\{mouse}_S{Session}_Bayes_ab.png', dpi=300, bbox_inches='tight')\n",
    "plt.show()"
   ]
  },
  {
   "cell_type": "code",
   "execution_count": 47,
   "metadata": {},
   "outputs": [
    {
     "data": {
      "image/png": "[encoded data removed]",
      "text/plain": [
       "<Figure size 300x300 with 1 Axes>"
      ]
     },
     "metadata": {},
     "output_type": "display_data"
    }
   ],
   "source": [
    "plt.figure(figsize=(3,3)) \n",
    "bin_edges = np.arange(0, 1+0.04, 0.04)\n",
    "plt.hist(acc_sh_bayes_sb, bins=bin_edges, alpha=0.5, color='#0000CD')\n",
    "plt.axvline(acc_bayes_sb,color='red', alpha=0.7)\n",
    "plt.xlabel('Accuracy', fontsize=12)\n",
    "plt.ylabel('Count', fontsize=12)\n",
    "plt.xticks(rotation=45)\n",
    "plt.xticks(np.arange(0, 1.1, 0.1)) \n",
    "plt.ylim(0,500)\n",
    "plt.title(f'{mouse}, S{Session},\\nBayes,\\nmorning cv,\\ntrai&test_shuffle,\\nacc={acc_bayes_sb:.2f}, pval={p_value_bayes_sb:.3f}')\n",
    "plt.tight_layout()\n",
    "plt.savefig(f'C:\\\\Users\\\\ebukina\\\\Desktop\\\\eva\\\\results\\\\models_a_b_bl\\\\S{Session}\\\\{mouse}_S{Session}_Bayes_sb.png', dpi=300, bbox_inches='tight')\n",
    "plt.show()"
   ]
  },
  {
   "cell_type": "code",
   "execution_count": 48,
   "metadata": {},
   "outputs": [],
   "source": [
    "classifiers_results = {}\n",
    "classifiers_results['svm'] = {'acc_ab':acc_svm_ab, 'acc_sh_ab':acc_sh_ab, 'pval_ab':p_value_ab, \n",
    "                              'acc_sb':acc_svm_sb, 'acc_sh_sb':acc_sh_sb, 'pval_sb':p_value_sb}\n",
    "\n",
    "classifiers_results['bayes'] = {'acc_ab':acc_bayes_ab, 'acc_sh_ab':acc_sh_bayes_ab,'pval_ab':p_value_bayes_ab, \n",
    "                                'acc_sb':acc_bayes_sb, 'acc_sh_sb':acc_sh_bayes_sb, 'pval_sb':p_value_bayes_sb}"
   ]
  },
  {
   "cell_type": "code",
   "execution_count": null,
   "metadata": {},
   "outputs": [],
   "source": []
  },
  {
   "cell_type": "code",
   "execution_count": 49,
   "metadata": {},
   "outputs": [],
   "source": [
    "save_path = f'C:\\\\Users\\\\ebukina\\\\Desktop\\\\eva\\\\results\\\\models_a_b_bl\\\\S{Session}\\\\{mouse}_S{Session}_classifiers_results.pkl'\n",
    "with open(save_path, 'wb') as f:\n",
    "    pickle.dump(classifiers_results, f)"
   ]
  },
  {
   "cell_type": "code",
   "execution_count": 50,
   "metadata": {},
   "outputs": [],
   "source": [
    "# # load\n",
    "# with open(save_path, 'rb') as f:\n",
    "#     classifiers_results = pickle.load(f)\n",
    "# classifiers_results"
   ]
  },
  {
   "cell_type": "code",
   "execution_count": null,
   "metadata": {},
   "outputs": [],
   "source": []
  }
 ],
 "metadata": {
  "kernelspec": {
   "display_name": "Python 3 (ipykernel)",
   "language": "python",
   "name": "python3"
  },
  "language_info": {
   "codemirror_mode": {
    "name": "ipython",
    "version": 3
   },
   "file_extension": ".py",
   "mimetype": "text/x-python",
   "name": "python",
   "nbconvert_exporter": "python",
   "pygments_lexer": "ipython3",
   "version": "3.11.5"
  }
 },
 "nbformat": 4,
 "nbformat_minor": 1
}
